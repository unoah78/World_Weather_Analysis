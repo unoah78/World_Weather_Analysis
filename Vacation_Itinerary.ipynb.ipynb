{
 "cells": [
  {
   "cell_type": "markdown",
   "metadata": {},
   "source": [
    "## Deliverable 3. Create a Travel Itinerary Map."
   ]
  },
  {
   "cell_type": "code",
   "execution_count": 1,
   "metadata": {},
   "outputs": [],
   "source": [
    "# Dependencies and Setup\n",
    "import pandas as pd\n",
    "import requests\n",
    "import gmaps\n",
    "\n",
    "# Import API key\n",
    "from config import g_key\n",
    "\n",
    "# Configure gmaps\n",
    "gmaps.configure(api_key=g_key)"
   ]
  },
  {
   "cell_type": "code",
   "execution_count": 2,
   "metadata": {},
   "outputs": [
    {
     "data": {
      "text/html": [
       "<div>\n",
       "<style scoped>\n",
       "    .dataframe tbody tr th:only-of-type {\n",
       "        vertical-align: middle;\n",
       "    }\n",
       "\n",
       "    .dataframe tbody tr th {\n",
       "        vertical-align: top;\n",
       "    }\n",
       "\n",
       "    .dataframe thead th {\n",
       "        text-align: right;\n",
       "    }\n",
       "</style>\n",
       "<table border=\"1\" class=\"dataframe\">\n",
       "  <thead>\n",
       "    <tr style=\"text-align: right;\">\n",
       "      <th></th>\n",
       "      <th>City_ID</th>\n",
       "      <th>City</th>\n",
       "      <th>Lat</th>\n",
       "      <th>Lng</th>\n",
       "      <th>Max Temp</th>\n",
       "      <th>Humidity</th>\n",
       "      <th>Cloudiness</th>\n",
       "      <th>Wind Speed</th>\n",
       "      <th>Country</th>\n",
       "      <th>Date</th>\n",
       "    </tr>\n",
       "  </thead>\n",
       "  <tbody>\n",
       "    <tr>\n",
       "      <th>0</th>\n",
       "      <td>0</td>\n",
       "      <td>New Norfolk</td>\n",
       "      <td>42.3584</td>\n",
       "      <td>-71.0598</td>\n",
       "      <td>57.99</td>\n",
       "      <td>22</td>\n",
       "      <td>4</td>\n",
       "      <td>14.97</td>\n",
       "      <td>US</td>\n",
       "      <td>2021-04-04 22:42:50</td>\n",
       "    </tr>\n",
       "    <tr>\n",
       "      <th>1</th>\n",
       "      <td>1</td>\n",
       "      <td>Kazerun</td>\n",
       "      <td>42.3584</td>\n",
       "      <td>-71.0598</td>\n",
       "      <td>57.99</td>\n",
       "      <td>22</td>\n",
       "      <td>4</td>\n",
       "      <td>14.97</td>\n",
       "      <td>US</td>\n",
       "      <td>2021-04-04 22:42:50</td>\n",
       "    </tr>\n",
       "    <tr>\n",
       "      <th>2</th>\n",
       "      <td>2</td>\n",
       "      <td>Cidreira</td>\n",
       "      <td>42.3584</td>\n",
       "      <td>-71.0598</td>\n",
       "      <td>57.99</td>\n",
       "      <td>22</td>\n",
       "      <td>4</td>\n",
       "      <td>14.97</td>\n",
       "      <td>US</td>\n",
       "      <td>2021-04-04 22:42:50</td>\n",
       "    </tr>\n",
       "    <tr>\n",
       "      <th>3</th>\n",
       "      <td>3</td>\n",
       "      <td>Rikitea</td>\n",
       "      <td>42.3584</td>\n",
       "      <td>-71.0598</td>\n",
       "      <td>57.99</td>\n",
       "      <td>22</td>\n",
       "      <td>4</td>\n",
       "      <td>14.97</td>\n",
       "      <td>US</td>\n",
       "      <td>2021-04-04 22:42:50</td>\n",
       "    </tr>\n",
       "    <tr>\n",
       "      <th>4</th>\n",
       "      <td>4</td>\n",
       "      <td>Ushuaia</td>\n",
       "      <td>42.3584</td>\n",
       "      <td>-71.0598</td>\n",
       "      <td>57.99</td>\n",
       "      <td>22</td>\n",
       "      <td>4</td>\n",
       "      <td>14.97</td>\n",
       "      <td>US</td>\n",
       "      <td>2021-04-04 22:42:50</td>\n",
       "    </tr>\n",
       "    <tr>\n",
       "      <th>5</th>\n",
       "      <td>5</td>\n",
       "      <td>Peace River</td>\n",
       "      <td>42.3584</td>\n",
       "      <td>-71.0598</td>\n",
       "      <td>57.99</td>\n",
       "      <td>22</td>\n",
       "      <td>4</td>\n",
       "      <td>14.97</td>\n",
       "      <td>US</td>\n",
       "      <td>2021-04-04 22:42:50</td>\n",
       "    </tr>\n",
       "    <tr>\n",
       "      <th>6</th>\n",
       "      <td>6</td>\n",
       "      <td>Sentyabrskiy</td>\n",
       "      <td>42.3584</td>\n",
       "      <td>-71.0598</td>\n",
       "      <td>57.99</td>\n",
       "      <td>22</td>\n",
       "      <td>4</td>\n",
       "      <td>14.97</td>\n",
       "      <td>US</td>\n",
       "      <td>2021-04-04 22:42:50</td>\n",
       "    </tr>\n",
       "    <tr>\n",
       "      <th>7</th>\n",
       "      <td>7</td>\n",
       "      <td>Leningradskiy</td>\n",
       "      <td>42.3584</td>\n",
       "      <td>-71.0598</td>\n",
       "      <td>57.99</td>\n",
       "      <td>22</td>\n",
       "      <td>4</td>\n",
       "      <td>14.97</td>\n",
       "      <td>US</td>\n",
       "      <td>2021-04-04 22:42:50</td>\n",
       "    </tr>\n",
       "    <tr>\n",
       "      <th>8</th>\n",
       "      <td>8</td>\n",
       "      <td>Chuy</td>\n",
       "      <td>42.3584</td>\n",
       "      <td>-71.0598</td>\n",
       "      <td>57.99</td>\n",
       "      <td>22</td>\n",
       "      <td>4</td>\n",
       "      <td>14.97</td>\n",
       "      <td>US</td>\n",
       "      <td>2021-04-04 22:42:50</td>\n",
       "    </tr>\n",
       "    <tr>\n",
       "      <th>9</th>\n",
       "      <td>9</td>\n",
       "      <td>Nassau</td>\n",
       "      <td>42.3584</td>\n",
       "      <td>-71.0598</td>\n",
       "      <td>57.99</td>\n",
       "      <td>22</td>\n",
       "      <td>4</td>\n",
       "      <td>14.97</td>\n",
       "      <td>US</td>\n",
       "      <td>2021-04-04 22:42:50</td>\n",
       "    </tr>\n",
       "  </tbody>\n",
       "</table>\n",
       "</div>"
      ],
      "text/plain": [
       "   City_ID           City      Lat      Lng  Max Temp  Humidity  Cloudiness  \\\n",
       "0        0    New Norfolk  42.3584 -71.0598     57.99        22           4   \n",
       "1        1        Kazerun  42.3584 -71.0598     57.99        22           4   \n",
       "2        2       Cidreira  42.3584 -71.0598     57.99        22           4   \n",
       "3        3        Rikitea  42.3584 -71.0598     57.99        22           4   \n",
       "4        4        Ushuaia  42.3584 -71.0598     57.99        22           4   \n",
       "5        5    Peace River  42.3584 -71.0598     57.99        22           4   \n",
       "6        6   Sentyabrskiy  42.3584 -71.0598     57.99        22           4   \n",
       "7        7  Leningradskiy  42.3584 -71.0598     57.99        22           4   \n",
       "8        8           Chuy  42.3584 -71.0598     57.99        22           4   \n",
       "9        9         Nassau  42.3584 -71.0598     57.99        22           4   \n",
       "\n",
       "   Wind Speed Country                 Date  \n",
       "0       14.97      US  2021-04-04 22:42:50  \n",
       "1       14.97      US  2021-04-04 22:42:50  \n",
       "2       14.97      US  2021-04-04 22:42:50  \n",
       "3       14.97      US  2021-04-04 22:42:50  \n",
       "4       14.97      US  2021-04-04 22:42:50  \n",
       "5       14.97      US  2021-04-04 22:42:50  \n",
       "6       14.97      US  2021-04-04 22:42:50  \n",
       "7       14.97      US  2021-04-04 22:42:50  \n",
       "8       14.97      US  2021-04-04 22:42:50  \n",
       "9       14.97      US  2021-04-04 22:42:50  "
      ]
     },
     "execution_count": 2,
     "metadata": {},
     "output_type": "execute_result"
    }
   ],
   "source": [
    "# 1. Read the WeatherPy_vacation.csv into a DataFrame.\n",
    "# vacation_df = pd.read_csv(\"Vacation_Search/WeatherPy_vacation.csv\")\n",
    "# vacation_df.head()\n",
    "\n",
    "vacation_df = pd.read_csv(r\"C:\\Users\\unoah\\OneDrive\\Desktop\\Data Analytics Class\\World_Weather_Analysis\\Resources\\WeatherPy_database.csv\")\n",
    "vacation_df.head(10)"
   ]
  },
  {
   "cell_type": "code",
   "execution_count": 3,
   "metadata": {},
   "outputs": [],
   "source": [
    "# 2. Using the template add the city name, the country code, the weather description and maximum temperature for the city.\n",
    "info_box_template = \"\"\"\n",
    "<dl>\n",
    "<dt>City</dt><dd>{City}</dd>\n",
    "<dt>Country</dt><dd>{Country}</dd>\n",
    "<dt>Max Temp</dt><dd>{Max Temp} °F</dd>\n",
    "</dl>\n",
    "\"\"\"\n",
    "\n",
    "# 3a. Get the data from each row and add it to the formatting template and store the data in a list.\n",
    "hotel_info = [info_box_template.format(**row) for index, row in vacation_df.iterrows()]\n",
    "\n",
    "# 3b. Get the latitude and longitude from each row and store in a new DataFrame.\n",
    "locations = vacation_df[[\"Lat\", \"Lng\"]]"
   ]
  },
  {
   "cell_type": "code",
   "execution_count": 4,
   "metadata": {},
   "outputs": [
    {
     "data": {
      "application/vnd.jupyter.widget-view+json": {
       "model_id": "e4c3bfda34d9400c8e73a921c32d0a35",
       "version_major": 2,
       "version_minor": 0
      },
      "text/plain": [
       "Figure(layout=FigureLayout(height='420px'))"
      ]
     },
     "metadata": {},
     "output_type": "display_data"
    }
   ],
   "source": [
    "# 4a. Add a marker layer for each city to the map.\n",
    "max_temp = vacation_df[\"Max Temp\"]\n",
    "fig = gmaps.figure(center=(30.0, 31.0), zoom_level=1.5)\n",
    "marker_layer = gmaps.marker_layer(locations, info_box_content=hotel_info)\n",
    "\n",
    "fig.add_layer(marker_layer)\n",
    "# 4b. Display the figure\n",
    "fig\n"
   ]
  },
  {
   "cell_type": "code",
   "execution_count": 5,
   "metadata": {},
   "outputs": [
    {
     "name": "stdout",
     "output_type": "stream",
     "text": [
      "571    Your Starting Destination is Lima, RU\n",
      "dtype: object\n",
      "149    Your First Stop is Jutai, RO\n",
      "dtype: object\n",
      "99    Your Second Stop is Oranjemund, KZ\n",
      "dtype: object\n",
      "549    Your Third Stop is Ahuimanu, KZ\n",
      "dtype: object\n",
      "571    Your Last Stop on your vacation is Lima, RU\n",
      "dtype: object\n"
     ]
    }
   ],
   "source": [
    "# From the map above pick 4 cities and create a vacation itinerary route to travel between the four cities. \n",
    "# 5. Create DataFrames for each city by filtering the 'vacation_df' using the loc method. \n",
    "# Hint: The starting and ending city should be the same city.\n",
    "\n",
    "vacation_start = vacation_df.loc[(vacation_df[\"City\"] == \"Lima\") & (vacation_df[\"Country\"]== \"RU\")] \n",
    "vacation_end = vacation_df.loc[(vacation_df[\"City\"] == \"Lima\") & (vacation_df[\"Country\"] == \"RU\")]\n",
    "vacation_stop1 = vacation_df.loc[(vacation_df[\"City\"] == \"Jutai\") & (vacation_df[\"Country\"]== \"RO\")]\n",
    "vacation_stop2 = vacation_df.loc[(vacation_df[\"City\"] == \"Oranjemund\") & (vacation_df[\"Country\"]== \"KZ\")] \n",
    "vacation_stop3 = vacation_df.loc[(vacation_df[\"City\"] == \"Ahuimanu\") & (vacation_df[\"Country\"]== \"KZ\")] \n",
    "\n",
    "\n",
    "print(\"Your Starting Destination is \" + vacation_start[\"City\"] + \", \" + vacation_start[\"Country\"])\n",
    "print(\"Your First Stop is \" + vacation_stop1[\"City\"] + \", \" + vacation_stop1[\"Country\"])\n",
    "print(\"Your Second Stop is \" + vacation_stop2[\"City\"] + \", \" + vacation_stop2[\"Country\"])                                     \n",
    "print(\"Your Third Stop is \" + vacation_stop3[\"City\"] + \", \" + vacation_stop3[\"Country\"])                                     \n",
    "print(\"Your Last Stop on your vacation is \" + vacation_end[\"City\"] + \", \" + vacation_end[\"Country\"])"
   ]
  },
  {
   "cell_type": "code",
   "execution_count": 8,
   "metadata": {},
   "outputs": [
    {
     "data": {
      "text/plain": [
       "(60.1247, 64.7758)"
      ]
     },
     "execution_count": 8,
     "metadata": {},
     "output_type": "execute_result"
    }
   ],
   "source": [
    "# 6. Get the latitude-longitude pairs as tuples from each city DataFrame using the to_numpy function and list indexing.\n",
    "start = (vacation_start [\"Lat\"].to_numpy()[0], vacation_start [\"Lng\"].to_numpy()[0])\n",
    "start"
   ]
  },
  {
   "cell_type": "code",
   "execution_count": 9,
   "metadata": {},
   "outputs": [
    {
     "data": {
      "text/plain": [
       "(46.5167, 24.75)"
      ]
     },
     "execution_count": 9,
     "metadata": {},
     "output_type": "execute_result"
    }
   ],
   "source": [
    "# Stop 1\n",
    "stop1 = (vacation_stop1 [\"Lat\"].to_numpy()[0], vacation_stop1 [\"Lng\"].to_numpy()[0])\n",
    "stop1"
   ]
  },
  {
   "cell_type": "code",
   "execution_count": 10,
   "metadata": {},
   "outputs": [
    {
     "data": {
      "text/plain": [
       "(44.1667, 52.1167)"
      ]
     },
     "execution_count": 10,
     "metadata": {},
     "output_type": "execute_result"
    }
   ],
   "source": [
    "# Stop 2\n",
    "stop2 = (vacation_stop2 [\"Lat\"].to_numpy()[0], vacation_stop2 [\"Lng\"].to_numpy()[0])\n",
    "stop2"
   ]
  },
  {
   "cell_type": "code",
   "execution_count": 13,
   "metadata": {},
   "outputs": [
    {
     "data": {
      "text/plain": [
       "(51.095, 52.1167)"
      ]
     },
     "execution_count": 13,
     "metadata": {},
     "output_type": "execute_result"
    }
   ],
   "source": [
    "stop3 = (vacation_stop3 [\"Lat\"].to_numpy()[0], vacation_stop2 [\"Lng\"].to_numpy()[0])\n",
    "stop3"
   ]
  },
  {
   "cell_type": "code",
   "execution_count": 12,
   "metadata": {},
   "outputs": [
    {
     "data": {
      "text/plain": [
       "(60.1247, 64.7758)"
      ]
     },
     "execution_count": 12,
     "metadata": {},
     "output_type": "execute_result"
    }
   ],
   "source": [
    "end = (vacation_end [\"Lat\"].to_numpy()[0], vacation_end [\"Lng\"].to_numpy()[0])\n",
    "end"
   ]
  },
  {
   "cell_type": "code",
   "execution_count": 26,
   "metadata": {
    "scrolled": true
   },
   "outputs": [
    {
     "data": {
      "application/vnd.jupyter.widget-view+json": {
       "model_id": "2192f720be8346b78b7c0f6f2c28c498",
       "version_major": 2,
       "version_minor": 0
      },
      "text/plain": [
       "Figure(layout=FigureLayout(height='420px'))"
      ]
     },
     "metadata": {},
     "output_type": "display_data"
    }
   ],
   "source": [
    "# 7. Create a direction layer map using the start and end latitude-longitude pairs,\n",
    "# and stop1, stop2, and stop3 as the waypoints. The travel_mode should be \"DRIVING\", \"BICYCLING\", or \"WALKING\".\n",
    "\n",
    "import gmaps\n",
    "import gmaps.datasets\n",
    "gmaps.configure(api_key=g_key)\n",
    "\n",
    "start = (60.1247, -64.7758)\n",
    "stop1 = (46.5167, -24.75)\n",
    "stop2 = (44.1667, -52.1167)\n",
    "stop3 = (51.095, -52.1167)\n",
    "end = (60.1247, -64.7758)\n",
    "\n",
    "fig = gmaps.figure()\n",
    "start2end_via_stops = gmaps.directions_layer(\n",
    "        start, end, waypoints=[stop1, stop2, stop3],\n",
    "        travel_mode='DRIVING')\n",
    "symbols = gmaps.symbol_layer(\n",
    "        locations, fill_color='green', stroke_color='green')\n",
    "fig.add_layer(start2end_via_stops)\n",
    "fig"
   ]
  },
  {
   "cell_type": "code",
   "execution_count": 16,
   "metadata": {},
   "outputs": [
    {
     "data": {
      "text/html": [
       "<div>\n",
       "<style scoped>\n",
       "    .dataframe tbody tr th:only-of-type {\n",
       "        vertical-align: middle;\n",
       "    }\n",
       "\n",
       "    .dataframe tbody tr th {\n",
       "        vertical-align: top;\n",
       "    }\n",
       "\n",
       "    .dataframe thead th {\n",
       "        text-align: right;\n",
       "    }\n",
       "</style>\n",
       "<table border=\"1\" class=\"dataframe\">\n",
       "  <thead>\n",
       "    <tr style=\"text-align: right;\">\n",
       "      <th></th>\n",
       "      <th>City_ID</th>\n",
       "      <th>City</th>\n",
       "      <th>Lat</th>\n",
       "      <th>Lng</th>\n",
       "      <th>Max Temp</th>\n",
       "      <th>Humidity</th>\n",
       "      <th>Cloudiness</th>\n",
       "      <th>Wind Speed</th>\n",
       "      <th>Country</th>\n",
       "      <th>Date</th>\n",
       "    </tr>\n",
       "  </thead>\n",
       "  <tbody>\n",
       "    <tr>\n",
       "      <th>0</th>\n",
       "      <td>571</td>\n",
       "      <td>Lima</td>\n",
       "      <td>60.1247</td>\n",
       "      <td>64.7758</td>\n",
       "      <td>33.57</td>\n",
       "      <td>99</td>\n",
       "      <td>100</td>\n",
       "      <td>4.68</td>\n",
       "      <td>RU</td>\n",
       "      <td>2021-04-04 22:45:38</td>\n",
       "    </tr>\n",
       "    <tr>\n",
       "      <th>1</th>\n",
       "      <td>149</td>\n",
       "      <td>Jutai</td>\n",
       "      <td>46.5167</td>\n",
       "      <td>24.7500</td>\n",
       "      <td>37.40</td>\n",
       "      <td>87</td>\n",
       "      <td>20</td>\n",
       "      <td>2.30</td>\n",
       "      <td>RO</td>\n",
       "      <td>2021-04-04 22:45:06</td>\n",
       "    </tr>\n",
       "    <tr>\n",
       "      <th>2</th>\n",
       "      <td>99</td>\n",
       "      <td>Oranjemund</td>\n",
       "      <td>44.1667</td>\n",
       "      <td>52.1167</td>\n",
       "      <td>46.49</td>\n",
       "      <td>70</td>\n",
       "      <td>8</td>\n",
       "      <td>7.58</td>\n",
       "      <td>KZ</td>\n",
       "      <td>2021-04-04 22:41:15</td>\n",
       "    </tr>\n",
       "    <tr>\n",
       "      <th>3</th>\n",
       "      <td>549</td>\n",
       "      <td>Ahuimanu</td>\n",
       "      <td>51.0950</td>\n",
       "      <td>54.0814</td>\n",
       "      <td>31.59</td>\n",
       "      <td>91</td>\n",
       "      <td>99</td>\n",
       "      <td>7.87</td>\n",
       "      <td>KZ</td>\n",
       "      <td>2021-04-04 22:45:35</td>\n",
       "    </tr>\n",
       "    <tr>\n",
       "      <th>4</th>\n",
       "      <td>571</td>\n",
       "      <td>Lima</td>\n",
       "      <td>60.1247</td>\n",
       "      <td>64.7758</td>\n",
       "      <td>33.57</td>\n",
       "      <td>99</td>\n",
       "      <td>100</td>\n",
       "      <td>4.68</td>\n",
       "      <td>RU</td>\n",
       "      <td>2021-04-04 22:45:38</td>\n",
       "    </tr>\n",
       "  </tbody>\n",
       "</table>\n",
       "</div>"
      ],
      "text/plain": [
       "   City_ID        City      Lat      Lng  Max Temp  Humidity  Cloudiness  \\\n",
       "0      571        Lima  60.1247  64.7758     33.57        99         100   \n",
       "1      149       Jutai  46.5167  24.7500     37.40        87          20   \n",
       "2       99  Oranjemund  44.1667  52.1167     46.49        70           8   \n",
       "3      549    Ahuimanu  51.0950  54.0814     31.59        91          99   \n",
       "4      571        Lima  60.1247  64.7758     33.57        99         100   \n",
       "\n",
       "   Wind Speed Country                 Date  \n",
       "0        4.68      RU  2021-04-04 22:45:38  \n",
       "1        2.30      RO  2021-04-04 22:45:06  \n",
       "2        7.58      KZ  2021-04-04 22:41:15  \n",
       "3        7.87      KZ  2021-04-04 22:45:35  \n",
       "4        4.68      RU  2021-04-04 22:45:38  "
      ]
     },
     "execution_count": 16,
     "metadata": {},
     "output_type": "execute_result"
    }
   ],
   "source": [
    "# 8. To create a marker layer map between the four cities.\n",
    "#  Combine the four city DataFrames into one DataFrame using the concat() function.\n",
    "itinerary_df = pd.concat([vacation_start, vacation_stop1, vacation_stop2, vacation_stop3, vacation_end],ignore_index=True)\n",
    "itinerary_df"
   ]
  },
  {
   "cell_type": "code",
   "execution_count": 17,
   "metadata": {},
   "outputs": [],
   "source": [
    "# 9 Using the template add city name, the country code, the weather description and maximum temperature for the city. \n",
    "info_box_template = \"\"\"\n",
    "<dl>\n",
    "<dt>City</dt><dd>{City}</dd>\n",
    "<dt>Country</dt><dd>{Country}</dd>\n",
    "<dt>Current Description</dt><dd>{Max Temp}</dd>\n",
    "</dl>\n",
    "\"\"\"\n",
    "\n",
    "# 10a Get the data from each row and add it to the formatting template and store the data in a list.\n",
    "hotel_info = [info_box_template.format(**row) for index, row in itinerary_df.iterrows()]\n",
    "\n",
    "# 10b. Get the latitude and longitude from each row and store in a new DataFrame.\n",
    "locations = itinerary_df[[\"Lat\", \"Lng\"]]"
   ]
  },
  {
   "cell_type": "code",
   "execution_count": 18,
   "metadata": {},
   "outputs": [
    {
     "data": {
      "application/vnd.jupyter.widget-view+json": {
       "model_id": "a2d5194f53c44c7997ec50efc611d558",
       "version_major": 2,
       "version_minor": 0
      },
      "text/plain": [
       "Figure(layout=FigureLayout(height='420px'))"
      ]
     },
     "metadata": {},
     "output_type": "display_data"
    }
   ],
   "source": [
    "# 11a. Add a marker layer for each city to the map.\n",
    "locations = itinerary_df[[\"Lat\", \"Lng\"]]\n",
    "max_temp = itinerary_df[\"Max Temp\"]\n",
    "fig = gmaps.figure(center=(30.0, 31.0), zoom_level=1.5)\n",
    "marker_layer = gmaps.marker_layer(locations, info_box_content=hotel_info)\n",
    "fig.add_layer(marker_layer)\n",
    "# 11b. Display the figure\n",
    "fig"
   ]
  },
  {
   "cell_type": "code",
   "execution_count": null,
   "metadata": {},
   "outputs": [],
   "source": []
  }
 ],
 "metadata": {
  "kernelspec": {
   "display_name": "PythonData",
   "language": "python",
   "name": "pythondata"
  },
  "language_info": {
   "codemirror_mode": {
    "name": "ipython",
    "version": 3
   },
   "file_extension": ".py",
   "mimetype": "text/x-python",
   "name": "python",
   "nbconvert_exporter": "python",
   "pygments_lexer": "ipython3",
   "version": "3.8.5"
  },
  "latex_envs": {
   "LaTeX_envs_menu_present": true,
   "autoclose": false,
   "autocomplete": true,
   "bibliofile": "biblio.bib",
   "cite_by": "apalike",
   "current_citInitial": 1,
   "eqLabelWithNumbers": true,
   "eqNumInitial": 1,
   "hotkeys": {
    "equation": "Ctrl-E",
    "itemize": "Ctrl-I"
   },
   "labels_anchors": false,
   "latex_user_defs": false,
   "report_style_numbering": false,
   "user_envs_cfg": false
  }
 },
 "nbformat": 4,
 "nbformat_minor": 2
}
