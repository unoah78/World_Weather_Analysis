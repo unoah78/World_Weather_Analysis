{
 "cells": [
  {
   "cell_type": "code",
   "execution_count": 27,
   "metadata": {},
   "outputs": [],
   "source": [
    "# Import the dependencies.\n",
    "import pandas as pd\n",
    "import matplotlib.pyplot as plt\n",
    "import numpy as np"
   ]
  },
  {
   "cell_type": "code",
   "execution_count": 28,
   "metadata": {},
   "outputs": [
    {
     "data": {
      "text/plain": [
       "<zip at 0x19020077400>"
      ]
     },
     "execution_count": 28,
     "metadata": {},
     "output_type": "execute_result"
    }
   ],
   "source": [
    "# Create a set of random latitude and longitude combinations.\n",
    "lats = np.random.uniform(low=-90.000, high=90.000, size=1500)\n",
    "lngs = np.random.uniform(low=-180.000, high=180.000, size=1500)\n",
    "lat_lngs = zip(lats, lngs)\n",
    "lat_lngs"
   ]
  },
  {
   "cell_type": "code",
   "execution_count": 29,
   "metadata": {},
   "outputs": [],
   "source": [
    "# Add the latitudes and longitudes to a list.\n",
    "coordinates = list(lat_lngs)"
   ]
  },
  {
   "cell_type": "code",
   "execution_count": 30,
   "metadata": {},
   "outputs": [],
   "source": [
    "from citipy import citipy\n",
    "# Import the requests library.\n",
    "import requests\n",
    "\n",
    "# Import the API key.\n",
    "from config import weather_api_key"
   ]
  },
  {
   "cell_type": "code",
   "execution_count": 31,
   "metadata": {},
   "outputs": [
    {
     "name": "stdout",
     "output_type": "stream",
     "text": [
      "http://api.openweathermap.org/data/2.5/weather?units=Imperial&APPID=d9642ae2d477899f113cd8dd08bea37c\n"
     ]
    }
   ],
   "source": [
    "# Starting URL for Weather Map API Call.\n",
    "url = \"http://api.openweathermap.org/data/2.5/weather?units=Imperial&APPID=\" + weather_api_key\n",
    "print(url)"
   ]
  },
  {
   "cell_type": "code",
   "execution_count": 32,
   "metadata": {},
   "outputs": [
    {
     "name": "stdout",
     "output_type": "stream",
     "text": [
      "http://api.openweathermap.org/data/2.5/weather?units=Imperial&APPID=d9642ae2d477899f113cd8dd08bea37c&q=Boston\n"
     ]
    }
   ],
   "source": [
    "# Create an endpoint URL for a city.\n",
    "city_url = url + \"&q=\" + \"Boston\"\n",
    "print(city_url)"
   ]
  },
  {
   "cell_type": "code",
   "execution_count": 33,
   "metadata": {},
   "outputs": [
    {
     "data": {
      "text/plain": [
       "<Response [200]>"
      ]
     },
     "execution_count": 33,
     "metadata": {},
     "output_type": "execute_result"
    }
   ],
   "source": [
    "# Make a 'Get' request for the city weather.\n",
    "city_weather = requests.get(city_url)\n",
    "city_weather"
   ]
  },
  {
   "cell_type": "code",
   "execution_count": 34,
   "metadata": {},
   "outputs": [
    {
     "data": {
      "text/plain": [
       "{'coord': {'lon': -71.0598, 'lat': 42.3584},\n",
       " 'weather': [{'id': 800,\n",
       "   'main': 'Clear',\n",
       "   'description': 'clear sky',\n",
       "   'icon': '01n'}],\n",
       " 'base': 'stations',\n",
       " 'main': {'temp': 39.07,\n",
       "  'feels_like': 33.44,\n",
       "  'temp_min': 37,\n",
       "  'temp_max': 42.01,\n",
       "  'pressure': 1021,\n",
       "  'humidity': 28},\n",
       " 'visibility': 10000,\n",
       " 'wind': {'speed': 8.05, 'deg': 320},\n",
       " 'clouds': {'all': 0},\n",
       " 'dt': 1617498986,\n",
       " 'sys': {'type': 1,\n",
       "  'id': 4967,\n",
       "  'country': 'US',\n",
       "  'sunrise': 1617445361,\n",
       "  'sunset': 1617491508},\n",
       " 'timezone': -14400,\n",
       " 'id': 4930956,\n",
       " 'name': 'Boston',\n",
       " 'cod': 200}"
      ]
     },
     "execution_count": 34,
     "metadata": {},
     "output_type": "execute_result"
    }
   ],
   "source": [
    "# Get the JSON text of the 'Get' request.\n",
    "city_weather.json()"
   ]
  },
  {
   "cell_type": "code",
   "execution_count": 35,
   "metadata": {},
   "outputs": [
    {
     "name": "stdout",
     "output_type": "stream",
     "text": [
      "City Weather found.\n"
     ]
    }
   ],
   "source": [
    "# Create an endpoint URL for a city.\n",
    "city_url = url + \"&q=\" + \"Boston\"\n",
    "city_weather = requests.get(city_url)\n",
    "if city_weather.status_code == 200:\n",
    "    print(f\"City Weather found.\")\n",
    "else:\n",
    "    print(f\"City weather not found.\")"
   ]
  },
  {
   "cell_type": "code",
   "execution_count": 36,
   "metadata": {},
   "outputs": [
    {
     "name": "stdout",
     "output_type": "stream",
     "text": [
      "http://api.openweathermap.org/data/2.5/weather?units=Imperial&APPID=d9642ae2d477899f113cd8dd08bea37c&q=Boston\n"
     ]
    }
   ],
   "source": [
    "print(city_url)"
   ]
  },
  {
   "cell_type": "code",
   "execution_count": 37,
   "metadata": {},
   "outputs": [
    {
     "data": {
      "text/plain": [
       "{'coord': {'lon': -71.0598, 'lat': 42.3584},\n",
       " 'weather': [{'id': 800,\n",
       "   'main': 'Clear',\n",
       "   'description': 'clear sky',\n",
       "   'icon': '01n'}],\n",
       " 'base': 'stations',\n",
       " 'main': {'temp': 39.07,\n",
       "  'feels_like': 33.44,\n",
       "  'temp_min': 37,\n",
       "  'temp_max': 42.01,\n",
       "  'pressure': 1021,\n",
       "  'humidity': 28},\n",
       " 'visibility': 10000,\n",
       " 'wind': {'speed': 8.05, 'deg': 320},\n",
       " 'clouds': {'all': 0},\n",
       " 'dt': 1617498986,\n",
       " 'sys': {'type': 1,\n",
       "  'id': 4967,\n",
       "  'country': 'US',\n",
       "  'sunrise': 1617445361,\n",
       "  'sunset': 1617491508},\n",
       " 'timezone': -14400,\n",
       " 'id': 4930956,\n",
       " 'name': 'Boston',\n",
       " 'cod': 200}"
      ]
     },
     "execution_count": 37,
     "metadata": {},
     "output_type": "execute_result"
    }
   ],
   "source": [
    "# Create an endpoint URL for a city.\n",
    "city_url = url + \"&q=\" + \"Boston\"\n",
    "city_weather = requests.get(city_url)\n",
    "city_weather.json()"
   ]
  },
  {
   "cell_type": "code",
   "execution_count": 38,
   "metadata": {},
   "outputs": [],
   "source": [
    "# Get the JSON data.\n",
    "boston_data = city_weather.json()"
   ]
  },
  {
   "cell_type": "code",
   "execution_count": 39,
   "metadata": {},
   "outputs": [
    {
     "data": {
      "text/plain": [
       "{'type': 1,\n",
       " 'id': 4967,\n",
       " 'country': 'US',\n",
       " 'sunrise': 1617445361,\n",
       " 'sunset': 1617491508}"
      ]
     },
     "execution_count": 39,
     "metadata": {},
     "output_type": "execute_result"
    }
   ],
   "source": [
    "boston_data['sys']"
   ]
  },
  {
   "cell_type": "code",
   "execution_count": 40,
   "metadata": {},
   "outputs": [
    {
     "data": {
      "text/plain": [
       "'US'"
      ]
     },
     "execution_count": 40,
     "metadata": {},
     "output_type": "execute_result"
    }
   ],
   "source": [
    "boston_data[\"sys\"][\"country\"]"
   ]
  },
  {
   "cell_type": "code",
   "execution_count": 41,
   "metadata": {},
   "outputs": [
    {
     "data": {
      "text/plain": [
       "1617498986"
      ]
     },
     "execution_count": 41,
     "metadata": {},
     "output_type": "execute_result"
    }
   ],
   "source": [
    "boston_data[\"dt\"]"
   ]
  },
  {
   "cell_type": "code",
   "execution_count": 42,
   "metadata": {},
   "outputs": [
    {
     "data": {
      "text/plain": [
       "42.3584"
      ]
     },
     "execution_count": 42,
     "metadata": {},
     "output_type": "execute_result"
    }
   ],
   "source": [
    "boston_data[\"coord\"][\"lat\"]"
   ]
  },
  {
   "cell_type": "code",
   "execution_count": 43,
   "metadata": {},
   "outputs": [
    {
     "data": {
      "text/plain": [
       "42.01"
      ]
     },
     "execution_count": 43,
     "metadata": {},
     "output_type": "execute_result"
    }
   ],
   "source": [
    "boston_data[\"main\"][\"temp_max\"]"
   ]
  },
  {
   "cell_type": "code",
   "execution_count": 44,
   "metadata": {},
   "outputs": [
    {
     "name": "stdout",
     "output_type": "stream",
     "text": [
      "42.3584 -71.0598 42.01 28 0 8.05\n"
     ]
    }
   ],
   "source": [
    "lat = boston_data[\"coord\"][\"lat\"]\n",
    "lng = boston_data[\"coord\"][\"lon\"]\n",
    "max_temp = boston_data[\"main\"][\"temp_max\"]\n",
    "humidity = boston_data[\"main\"][\"humidity\"]\n",
    "clouds = boston_data[\"clouds\"][\"all\"]\n",
    "wind = boston_data[\"wind\"][\"speed\"]\n",
    "print(lat, lng, max_temp, humidity, clouds, wind)"
   ]
  },
  {
   "cell_type": "code",
   "execution_count": 45,
   "metadata": {},
   "outputs": [
    {
     "data": {
      "text/plain": [
       "datetime.datetime(2021, 4, 4, 1, 16, 26)"
      ]
     },
     "execution_count": 45,
     "metadata": {},
     "output_type": "execute_result"
    }
   ],
   "source": [
    "# Import the datetime module from the datetime library.\n",
    "from datetime import datetime\n",
    "# Get the date from the JSON file.\n",
    "date = boston_data[\"dt\"]\n",
    "# Convert the UTC date to a date format with year, month, day, hours, minutes, and seconds.\n",
    "datetime.utcfromtimestamp(date)"
   ]
  },
  {
   "cell_type": "code",
   "execution_count": 46,
   "metadata": {},
   "outputs": [
    {
     "data": {
      "text/plain": [
       "626"
      ]
     },
     "execution_count": 46,
     "metadata": {},
     "output_type": "execute_result"
    }
   ],
   "source": [
    "# Create a list for holding the cities.\n",
    "cities = []\n",
    "# Identify the nearest city for each latitude and longitude combination.\n",
    "for coordinate in coordinates:\n",
    "    city = citipy.nearest_city(coordinate[0], coordinate[1]).city_name\n",
    "\n",
    "    # If the city is unique, then we will add it to the cities list.\n",
    "    if city not in cities:\n",
    "        cities.append(city)\n",
    "# Print the city count to confirm sufficient count.\n",
    "len(cities)"
   ]
  },
  {
   "cell_type": "code",
   "execution_count": 47,
   "metadata": {},
   "outputs": [],
   "source": [
    "# Import the datetime module from the datetime library.\n",
    "from datetime import datetime"
   ]
  },
  {
   "cell_type": "code",
   "execution_count": 48,
   "metadata": {},
   "outputs": [
    {
     "name": "stdout",
     "output_type": "stream",
     "text": [
      "Beginning Data Retrieval     \n",
      "-----------------------------\n",
      "Processing Record 1 of Set 1 | busselton\n",
      "Processing Record 2 of Set 1 | jamestown\n",
      "Processing Record 3 of Set 1 | rikitea\n",
      "Processing Record 4 of Set 1 | bosaso\n",
      "Processing Record 5 of Set 1 | bambous virieux\n",
      "Processing Record 6 of Set 1 | jalingo\n",
      "Processing Record 7 of Set 1 | cape town\n",
      "Processing Record 8 of Set 1 | mataura\n",
      "Processing Record 9 of Set 1 | broken hill\n",
      "Processing Record 10 of Set 1 | punta arenas\n",
      "Processing Record 11 of Set 1 | puerto ayora\n",
      "Processing Record 12 of Set 1 | atuona\n",
      "Processing Record 13 of Set 1 | deer lake\n",
      "Processing Record 14 of Set 1 | ushuaia\n",
      "Processing Record 15 of Set 1 | san borja\n",
      "Processing Record 16 of Set 1 | pueblo nuevo\n",
      "Processing Record 17 of Set 1 | manggar\n",
      "Processing Record 18 of Set 1 | beisfjord\n",
      "Processing Record 19 of Set 1 | gubkinskiy\n",
      "Processing Record 20 of Set 1 | ponta delgada\n",
      "Processing Record 21 of Set 1 | avarua\n",
      "Processing Record 22 of Set 1 | tasiilaq\n",
      "Processing Record 23 of Set 1 | kapaa\n",
      "Processing Record 24 of Set 1 | dikson\n",
      "Processing Record 25 of Set 1 | tecoanapa\n",
      "Processing Record 26 of Set 1 | itoman\n",
      "Processing Record 27 of Set 1 | toma\n",
      "Processing Record 28 of Set 1 | gorontalo\n",
      "Processing Record 29 of Set 1 | moron\n",
      "Processing Record 30 of Set 1 | illoqqortoormiut\n",
      "Processing Record 31 of Set 1 | vaini\n",
      "Processing Record 32 of Set 1 | butaritari\n",
      "Processing Record 33 of Set 1 | sitka\n",
      "Processing Record 34 of Set 1 | east london\n",
      "Processing Record 35 of Set 1 | alyangula\n",
      "Processing Record 36 of Set 1 | barrow\n",
      "Processing Record 37 of Set 1 | shingu\n",
      "Processing Record 38 of Set 1 | bethel\n",
      "Processing Record 39 of Set 1 | severo-kurilsk\n",
      "Processing Record 40 of Set 1 | saldanha\n",
      "Processing Record 41 of Set 1 | attawapiskat\n",
      "Processing Record 42 of Set 1 | jamame\n",
      "Processing Record 43 of Set 1 | kasongo-lunda\n",
      "Processing Record 44 of Set 1 | castro\n",
      "Processing Record 45 of Set 1 | chuy\n",
      "Processing Record 46 of Set 1 | nikolskoye\n",
      "Processing Record 47 of Set 1 | kopyevo\n",
      "Processing Record 48 of Set 1 | lolua\n",
      "Processing Record 49 of Set 1 | koungheul\n",
      "Processing Record 50 of Set 1 | puerto escondido\n",
      "Processing Record 1 of Set 2 | marsa matruh\n",
      "Processing Record 2 of Set 2 | olivet\n",
      "Processing Record 3 of Set 2 | el alto\n",
      "Processing Record 4 of Set 2 | alofi\n",
      "Processing Record 5 of Set 2 | port alfred\n",
      "Processing Record 6 of Set 2 | qaanaaq\n",
      "Processing Record 7 of Set 2 | khatanga\n",
      "Processing Record 8 of Set 2 | kaitangata\n",
      "Processing Record 9 of Set 2 | tuktoyaktuk\n",
      "Processing Record 10 of Set 2 | waddan\n",
      "Processing Record 11 of Set 2 | darnah\n",
      "Processing Record 12 of Set 2 | bay city\n",
      "Processing Record 13 of Set 2 | mrirt\n",
      "Processing Record 14 of Set 2 | bodden town\n",
      "Processing Record 15 of Set 2 | awbari\n",
      "Processing Record 16 of Set 2 | yerbogachen\n",
      "Processing Record 17 of Set 2 | coihaique\n",
      "Processing Record 18 of Set 2 | centerville\n",
      "Processing Record 19 of Set 2 | jinji\n",
      "Processing Record 20 of Set 2 | albany\n",
      "Processing Record 21 of Set 2 | hithadhoo\n",
      "Processing Record 22 of Set 2 | hilo\n",
      "Processing Record 23 of Set 2 | upernavik\n",
      "Processing Record 24 of Set 2 | tsihombe\n",
      "Processing Record 25 of Set 2 | shumikha\n",
      "Processing Record 26 of Set 2 | rawson\n",
      "Processing Record 27 of Set 2 | sentyabrskiy\n",
      "Processing Record 28 of Set 2 | xiaoweizhai\n",
      "Processing Record 29 of Set 2 | kaeo\n",
      "Processing Record 30 of Set 2 | rybnaya sloboda\n",
      "Processing Record 31 of Set 2 | kasempa\n",
      "Processing Record 32 of Set 2 | marang\n",
      "Processing Record 33 of Set 2 | sechura\n",
      "Processing Record 34 of Set 2 | vyartsilya\n",
      "Processing Record 35 of Set 2 | arraial do cabo\n",
      "Processing Record 36 of Set 2 | hobart\n",
      "Processing Record 37 of Set 2 | tiksi\n",
      "Processing Record 38 of Set 2 | hermanus\n",
      "Processing Record 39 of Set 2 | victoria\n",
      "Processing Record 40 of Set 2 | saint george\n",
      "Processing Record 41 of Set 2 | karratha\n",
      "Processing Record 42 of Set 2 | new norfolk\n",
      "Processing Record 43 of Set 2 | torbay\n",
      "Processing Record 44 of Set 2 | carnarvon\n",
      "Processing Record 45 of Set 2 | iqaluit\n",
      "Processing Record 46 of Set 2 | havelock\n",
      "Processing Record 47 of Set 2 | qasigiannguit\n",
      "Processing Record 48 of Set 2 | ungheni\n",
      "Processing Record 49 of Set 2 | saint-philippe\n",
      "Processing Record 50 of Set 2 | divnomorskoye\n",
      "Processing Record 1 of Set 3 | namtsy\n",
      "Processing Record 2 of Set 3 | banda aceh\n",
      "Processing Record 3 of Set 3 | kon tum\n",
      "Processing Record 4 of Set 3 | ulaangom\n",
      "Processing Record 5 of Set 3 | ha giang\n",
      "Processing Record 6 of Set 3 | markdale\n",
      "Processing Record 7 of Set 3 | raga\n",
      "Processing Record 8 of Set 3 | coquimbo\n",
      "Processing Record 9 of Set 3 | kosa\n",
      "Processing Record 10 of Set 3 | san cristobal\n",
      "Processing Record 11 of Set 3 | grand river south east\n",
      "Processing Record 12 of Set 3 | ahipara\n",
      "Processing Record 13 of Set 3 | taolanaro\n",
      "Processing Record 14 of Set 3 | achisay\n",
      "Processing Record 15 of Set 3 | luangwa\n",
      "Processing Record 16 of Set 3 | arman\n",
      "Processing Record 17 of Set 3 | cap malheureux\n",
      "Processing Record 18 of Set 3 | falealupo\n",
      "Processing Record 19 of Set 3 | sulangan\n",
      "Processing Record 20 of Set 3 | ngukurr\n",
      "Processing Record 21 of Set 3 | belushya guba\n",
      "Processing Record 22 of Set 3 | valdivia\n",
      "Processing Record 23 of Set 3 | tura\n",
      "Processing Record 24 of Set 3 | souillac\n",
      "Processing Record 25 of Set 3 | masterton\n",
      "Processing Record 26 of Set 3 | jaguaribe\n",
      "Processing Record 27 of Set 3 | bengkulu\n",
      "Processing Record 28 of Set 3 | san quintin\n",
      "Processing Record 29 of Set 3 | lashio\n",
      "Processing Record 30 of Set 3 | loja\n",
      "Processing Record 31 of Set 3 | chapais\n",
      "Processing Record 32 of Set 3 | ilulissat\n",
      "Processing Record 33 of Set 3 | muhos\n",
      "Processing Record 34 of Set 3 | kupang\n",
      "Processing Record 35 of Set 3 | ugoofaaru\n",
      "Processing Record 36 of Set 3 | tuatapere\n",
      "Processing Record 37 of Set 3 | praia da vitoria\n",
      "Processing Record 38 of Set 3 | sulina\n",
      "Processing Record 39 of Set 3 | smithers\n",
      "Processing Record 40 of Set 3 | mayo\n",
      "Processing Record 41 of Set 3 | ruatoria\n",
      "Processing Record 42 of Set 3 | la baule-escoublac\n",
      "Processing Record 43 of Set 3 | nanortalik\n",
      "Processing Record 44 of Set 3 | san patricio\n",
      "Processing Record 45 of Set 3 | nizhneyansk\n",
      "Processing Record 46 of Set 3 | strezhevoy\n",
      "Processing Record 47 of Set 3 | abu dhabi\n",
      "Processing Record 48 of Set 3 | margaritas\n",
      "Processing Record 49 of Set 3 | aksarka\n",
      "Processing Record 50 of Set 3 | kahului\n",
      "Processing Record 1 of Set 4 | barentsburg\n",
      "City not found. Skipping...\n",
      "Processing Record 2 of Set 4 | manakara\n",
      "City not found. Skipping...\n",
      "Processing Record 3 of Set 4 | dalinghe\n",
      "City not found. Skipping...\n",
      "Processing Record 4 of Set 4 | polunochnoye\n",
      "City not found. Skipping...\n",
      "Processing Record 5 of Set 4 | hofn\n",
      "City not found. Skipping...\n",
      "Processing Record 6 of Set 4 | pevek\n",
      "City not found. Skipping...\n",
      "Processing Record 7 of Set 4 | klaksvik\n",
      "City not found. Skipping...\n",
      "Processing Record 8 of Set 4 | diapaga\n",
      "City not found. Skipping...\n",
      "Processing Record 9 of Set 4 | chokwe\n",
      "City not found. Skipping...\n",
      "Processing Record 10 of Set 4 | sunrise manor\n",
      "City not found. Skipping...\n",
      "Processing Record 11 of Set 4 | fort-shevchenko\n",
      "City not found. Skipping...\n",
      "Processing Record 12 of Set 4 | bluff\n",
      "City not found. Skipping...\n",
      "Processing Record 13 of Set 4 | nicoya\n",
      "City not found. Skipping...\n",
      "Processing Record 14 of Set 4 | okakarara\n",
      "City not found. Skipping...\n",
      "Processing Record 15 of Set 4 | bredasdorp\n",
      "City not found. Skipping...\n",
      "Processing Record 16 of Set 4 | ponta do sol\n",
      "City not found. Skipping...\n",
      "Processing Record 17 of Set 4 | mena\n",
      "City not found. Skipping...\n",
      "Processing Record 18 of Set 4 | keti bandar\n",
      "City not found. Skipping...\n",
      "Processing Record 19 of Set 4 | catabola\n",
      "City not found. Skipping...\n",
      "Processing Record 20 of Set 4 | birao\n",
      "City not found. Skipping...\n",
      "Processing Record 21 of Set 4 | guerrero negro\n",
      "City not found. Skipping...\n",
      "Processing Record 22 of Set 4 | svetlogorsk\n",
      "City not found. Skipping...\n",
      "Processing Record 23 of Set 4 | qaqortoq\n",
      "City not found. Skipping...\n",
      "Processing Record 24 of Set 4 | comodoro rivadavia\n",
      "City not found. Skipping...\n",
      "Processing Record 25 of Set 4 | lorengau\n",
      "City not found. Skipping...\n",
      "Processing Record 26 of Set 4 | dwarka\n",
      "City not found. Skipping...\n",
      "Processing Record 27 of Set 4 | evensk\n",
      "City not found. Skipping...\n",
      "Processing Record 28 of Set 4 | cabo san lucas\n",
      "City not found. Skipping...\n",
      "Processing Record 29 of Set 4 | mount gambier\n",
      "City not found. Skipping...\n",
      "Processing Record 30 of Set 4 | katsuura\n",
      "City not found. Skipping...\n",
      "Processing Record 31 of Set 4 | westport\n",
      "City not found. Skipping...\n",
      "Processing Record 32 of Set 4 | murray bridge\n",
      "City not found. Skipping...\n",
      "Processing Record 33 of Set 4 | presidencia roque saenz pena\n",
      "City not found. Skipping...\n",
      "Processing Record 34 of Set 4 | yanji\n",
      "City not found. Skipping...\n",
      "Processing Record 35 of Set 4 | cidreira\n",
      "City not found. Skipping...\n",
      "Processing Record 36 of Set 4 | chokurdakh\n",
      "City not found. Skipping...\n",
      "Processing Record 37 of Set 4 | chancay\n",
      "City not found. Skipping...\n",
      "Processing Record 38 of Set 4 | vardo\n",
      "City not found. Skipping...\n",
      "Processing Record 39 of Set 4 | kuche\n",
      "City not found. Skipping...\n",
      "Processing Record 40 of Set 4 | waingapu\n",
      "City not found. Skipping...\n",
      "Processing Record 41 of Set 4 | chengalpattu\n",
      "City not found. Skipping...\n",
      "Processing Record 42 of Set 4 | juneau\n",
      "City not found. Skipping...\n",
      "Processing Record 43 of Set 4 | port macquarie\n",
      "City not found. Skipping...\n",
      "Processing Record 44 of Set 4 | rapid city\n",
      "City not found. Skipping...\n",
      "Processing Record 45 of Set 4 | caceres\n",
      "City not found. Skipping...\n",
      "Processing Record 46 of Set 4 | halalo\n",
      "City not found. Skipping...\n",
      "Processing Record 47 of Set 4 | sinnai\n",
      "City not found. Skipping...\n",
      "Processing Record 48 of Set 4 | shakawe\n",
      "City not found. Skipping...\n",
      "Processing Record 49 of Set 4 | bubaque\n",
      "City not found. Skipping...\n",
      "Processing Record 50 of Set 4 | baringo\n",
      "City not found. Skipping...\n",
      "Processing Record 1 of Set 5 | saskylakh\n",
      "Processing Record 2 of Set 5 | thompson\n",
      "Processing Record 3 of Set 5 | cockburn town\n",
      "Processing Record 4 of Set 5 | sao joao da barra\n",
      "Processing Record 5 of Set 5 | terrak\n",
      "Processing Record 6 of Set 5 | prince rupert\n",
      "Processing Record 7 of Set 5 | wasilla\n",
      "Processing Record 8 of Set 5 | mahebourg\n",
      "Processing Record 9 of Set 5 | olafsvik\n",
      "Processing Record 10 of Set 5 | coari\n",
      "Processing Record 11 of Set 5 | palabuhanratu\n",
      "Processing Record 12 of Set 5 | husavik\n",
      "Processing Record 13 of Set 5 | halifax\n",
      "Processing Record 14 of Set 5 | kodiak\n",
      "Processing Record 15 of Set 5 | esterhazy\n",
      "Processing Record 16 of Set 5 | beira\n",
      "Processing Record 17 of Set 5 | walvis bay\n",
      "Processing Record 18 of Set 5 | port-gentil\n",
      "Processing Record 19 of Set 5 | the pas\n",
      "Processing Record 20 of Set 5 | grindavik\n",
      "Processing Record 21 of Set 5 | tidore\n",
      "Processing Record 22 of Set 5 | martin\n",
      "Processing Record 23 of Set 5 | mar del plata\n",
      "Processing Record 24 of Set 5 | esso\n",
      "Processing Record 25 of Set 5 | geraldton\n",
      "Processing Record 26 of Set 5 | banjar\n",
      "Processing Record 27 of Set 5 | port elizabeth\n",
      "Processing Record 28 of Set 5 | vestmanna\n",
      "Processing Record 29 of Set 5 | onega\n",
      "Processing Record 30 of Set 5 | kambove\n",
      "Processing Record 31 of Set 5 | beyneu\n",
      "Processing Record 32 of Set 5 | kavaratti\n",
      "Processing Record 33 of Set 5 | belaya gora\n",
      "Processing Record 34 of Set 5 | aranos\n",
      "Processing Record 35 of Set 5 | naze\n",
      "Processing Record 36 of Set 5 | adrar\n",
      "Processing Record 37 of Set 5 | padang\n",
      "Processing Record 38 of Set 5 | asfi\n",
      "Processing Record 39 of Set 5 | seydi\n",
      "Processing Record 40 of Set 5 | ola\n",
      "Processing Record 41 of Set 5 | inuvik\n",
      "Processing Record 42 of Set 5 | esperance\n",
      "Processing Record 43 of Set 5 | senanga\n",
      "Processing Record 44 of Set 5 | raudeberg\n",
      "Processing Record 45 of Set 5 | shimoga\n",
      "Processing Record 46 of Set 5 | norman wells\n",
      "Processing Record 47 of Set 5 | ostrovnoy\n",
      "Processing Record 48 of Set 5 | monterey\n",
      "Processing Record 49 of Set 5 | lokoja\n",
      "Processing Record 50 of Set 5 | weihe\n",
      "Processing Record 1 of Set 6 | uruguaiana\n",
      "Processing Record 2 of Set 6 | tumannyy\n",
      "Processing Record 3 of Set 6 | chara\n",
      "Processing Record 4 of Set 6 | kopavogur\n",
      "Processing Record 5 of Set 6 | waipawa\n",
      "Processing Record 6 of Set 6 | faya\n",
      "Processing Record 7 of Set 6 | koungou\n",
      "Processing Record 8 of Set 6 | solovetskiy\n",
      "Processing Record 9 of Set 6 | quelimane\n",
      "Processing Record 10 of Set 6 | yellowknife\n",
      "Processing Record 11 of Set 6 | porto uniao\n",
      "Processing Record 12 of Set 6 | sur\n",
      "Processing Record 13 of Set 6 | nova venecia\n",
      "Processing Record 14 of Set 6 | boden\n",
      "Processing Record 15 of Set 6 | provideniya\n",
      "Processing Record 16 of Set 6 | touros\n",
      "Processing Record 17 of Set 6 | cherskiy\n",
      "Processing Record 18 of Set 6 | lompoc\n",
      "Processing Record 19 of Set 6 | port lincoln\n",
      "Processing Record 20 of Set 6 | kokologo\n",
      "Processing Record 21 of Set 6 | puqi\n",
      "Processing Record 22 of Set 6 | berlevag\n",
      "Processing Record 23 of Set 6 | karaman\n",
      "Processing Record 24 of Set 6 | buraydah\n",
      "Processing Record 25 of Set 6 | charters towers\n",
      "Processing Record 26 of Set 6 | grand centre\n",
      "Processing Record 27 of Set 6 | mentok\n",
      "Processing Record 28 of Set 6 | ribeira grande\n",
      "Processing Record 29 of Set 6 | castanos\n",
      "Processing Record 30 of Set 6 | ixtapa\n",
      "Processing Record 31 of Set 6 | biak\n",
      "Processing Record 32 of Set 6 | wewak\n",
      "Processing Record 33 of Set 6 | mountrath\n",
      "Processing Record 34 of Set 6 | acarau\n",
      "Processing Record 35 of Set 6 | eyrarbakki\n",
      "Processing Record 36 of Set 6 | orlik\n",
      "Processing Record 37 of Set 6 | port shepstone\n",
      "Processing Record 38 of Set 6 | samusu\n",
      "Processing Record 39 of Set 6 | wellington\n",
      "Processing Record 40 of Set 6 | vila\n",
      "Processing Record 41 of Set 6 | huarmey\n",
      "Processing Record 42 of Set 6 | biryusinsk\n",
      "Processing Record 43 of Set 6 | airai\n",
      "Processing Record 44 of Set 6 | cape canaveral\n",
      "Processing Record 45 of Set 6 | kirensk\n",
      "Processing Record 46 of Set 6 | luwuk\n",
      "Processing Record 47 of Set 6 | torbat-e jam\n",
      "Processing Record 48 of Set 6 | sola\n",
      "Processing Record 49 of Set 6 | rjukan\n",
      "Processing Record 50 of Set 6 | longyearbyen\n",
      "Processing Record 1 of Set 7 | pandan\n",
      "Processing Record 2 of Set 7 | dunedin\n",
      "Processing Record 3 of Set 7 | teknaf\n",
      "Processing Record 4 of Set 7 | codrington\n",
      "Processing Record 5 of Set 7 | luanda\n",
      "Processing Record 6 of Set 7 | manokwari\n",
      "Processing Record 7 of Set 7 | ayni\n",
      "Processing Record 8 of Set 7 | karamea\n",
      "Processing Record 9 of Set 7 | jiangmen\n",
      "Processing Record 10 of Set 7 | maceio\n",
      "Processing Record 11 of Set 7 | kroya\n",
      "Processing Record 12 of Set 7 | nishihara\n",
      "Processing Record 13 of Set 7 | rawannawi\n",
      "Processing Record 14 of Set 7 | lazaro cardenas\n",
      "Processing Record 15 of Set 7 | ancud\n",
      "Processing Record 16 of Set 7 | alta floresta\n",
      "Processing Record 17 of Set 7 | bathsheba\n",
      "Processing Record 18 of Set 7 | maumere\n",
      "Processing Record 19 of Set 7 | melnikovo\n",
      "Processing Record 20 of Set 7 | ballymena\n",
      "Processing Record 21 of Set 7 | nuuk\n",
      "Processing Record 22 of Set 7 | buala\n",
      "Processing Record 23 of Set 7 | lata\n",
      "Processing Record 24 of Set 7 | clarence town\n",
      "Processing Record 25 of Set 7 | dubbo\n",
      "Processing Record 26 of Set 7 | vestmannaeyjar\n",
      "Processing Record 27 of Set 7 | kautokeino\n",
      "Processing Record 28 of Set 7 | grand gaube\n",
      "Processing Record 29 of Set 7 | landerneau\n",
      "Processing Record 30 of Set 7 | georgetown\n",
      "Processing Record 31 of Set 7 | villa maria\n",
      "Processing Record 32 of Set 7 | la ronge\n",
      "Processing Record 33 of Set 7 | sorong\n",
      "Processing Record 34 of Set 7 | ozu\n",
      "Processing Record 35 of Set 7 | sexsmith\n",
      "Processing Record 36 of Set 7 | labuhan\n",
      "Processing Record 37 of Set 7 | windhoek\n",
      "Processing Record 38 of Set 7 | sheridan\n",
      "Processing Record 39 of Set 7 | kathu\n",
      "Processing Record 40 of Set 7 | markala\n",
      "Processing Record 41 of Set 7 | wagar\n",
      "Processing Record 42 of Set 7 | mae sai\n",
      "Processing Record 43 of Set 7 | mabaruma\n",
      "Processing Record 44 of Set 7 | kamaishi\n",
      "Processing Record 45 of Set 7 | ternate\n",
      "Processing Record 46 of Set 7 | sarh\n",
      "Processing Record 47 of Set 7 | pandaria\n",
      "Processing Record 48 of Set 7 | aflu\n",
      "Processing Record 49 of Set 7 | aykhal\n",
      "Processing Record 50 of Set 7 | hongjiang\n",
      "Processing Record 1 of Set 8 | urusha\n",
      "Processing Record 2 of Set 8 | kaspiysk\n",
      "Processing Record 3 of Set 8 | clyde river\n",
      "Processing Record 4 of Set 8 | apaxtla\n",
      "Processing Record 5 of Set 8 | oktyabrskoye\n",
      "Processing Record 6 of Set 8 | soyo\n",
      "Processing Record 7 of Set 8 | asyut\n",
      "Processing Record 8 of Set 8 | prince albert\n",
      "Processing Record 9 of Set 8 | hambantota\n",
      "Processing Record 10 of Set 8 | voronovytsya\n",
      "Processing Record 11 of Set 8 | burgeo\n",
      "Processing Record 12 of Set 8 | solsvik\n",
      "Processing Record 13 of Set 8 | kiruna\n",
      "Processing Record 14 of Set 8 | kwinana\n",
      "Processing Record 15 of Set 8 | portland\n",
      "Processing Record 16 of Set 8 | naryan-mar\n",
      "Processing Record 17 of Set 8 | kavieng\n",
      "Processing Record 18 of Set 8 | kisangani\n",
      "Processing Record 19 of Set 8 | bilma\n",
      "Processing Record 20 of Set 8 | del rio\n",
      "Processing Record 21 of Set 8 | swan hill\n",
      "Processing Record 22 of Set 8 | wainwright\n",
      "Processing Record 23 of Set 8 | kasungu\n",
      "Processing Record 24 of Set 8 | ouadda\n",
      "Processing Record 25 of Set 8 | kismayo\n",
      "Processing Record 26 of Set 8 | narsaq\n",
      "Processing Record 27 of Set 8 | veraval\n",
      "Processing Record 28 of Set 8 | gizo\n",
      "Processing Record 29 of Set 8 | marovoay\n",
      "Processing Record 30 of Set 8 | mys shmidta\n",
      "Processing Record 31 of Set 8 | alindao\n",
      "Processing Record 32 of Set 8 | vaitupu\n",
      "Processing Record 33 of Set 8 | bolungarvik\n",
      "Processing Record 34 of Set 8 | caravelas\n",
      "Processing Record 35 of Set 8 | gat\n",
      "Processing Record 36 of Set 8 | englewood\n",
      "Processing Record 37 of Set 8 | zainsk\n",
      "Processing Record 38 of Set 8 | faanui\n",
      "Processing Record 39 of Set 8 | tir pol\n",
      "Processing Record 40 of Set 8 | sao felix do xingu\n",
      "Processing Record 41 of Set 8 | hanyang\n",
      "Processing Record 42 of Set 8 | poum\n",
      "Processing Record 43 of Set 8 | fortuna\n",
      "Processing Record 44 of Set 8 | north bend\n",
      "Processing Record 45 of Set 8 | lagoa\n",
      "Processing Record 46 of Set 8 | muros\n",
      "Processing Record 47 of Set 8 | aksu\n",
      "Processing Record 48 of Set 8 | urengoy\n",
      "Processing Record 49 of Set 8 | vurgun\n",
      "Processing Record 50 of Set 8 | dalvik\n",
      "Processing Record 1 of Set 9 | muyezerskiy\n",
      "Processing Record 2 of Set 9 | tucurui\n",
      "Processing Record 3 of Set 9 | kudahuvadhoo\n",
      "Processing Record 4 of Set 9 | lebu\n",
      "Processing Record 5 of Set 9 | tam ky\n",
      "Processing Record 6 of Set 9 | margate\n",
      "Processing Record 7 of Set 9 | chulucanas\n",
      "Processing Record 8 of Set 9 | loreto\n",
      "Processing Record 9 of Set 9 | xam nua\n",
      "Processing Record 10 of Set 9 | jiroft\n",
      "Processing Record 11 of Set 9 | asau\n",
      "Processing Record 12 of Set 9 | riyadh\n",
      "Processing Record 13 of Set 9 | basco\n",
      "Processing Record 14 of Set 9 | beloha\n",
      "Processing Record 15 of Set 9 | ylivieska\n",
      "Processing Record 16 of Set 9 | svetlaya\n",
      "Processing Record 17 of Set 9 | chiang khong\n",
      "Processing Record 18 of Set 9 | yandyki\n",
      "Processing Record 19 of Set 9 | teya\n",
      "Processing Record 20 of Set 9 | yulara\n",
      "Processing Record 21 of Set 9 | cayenne\n",
      "Processing Record 22 of Set 9 | termoli\n",
      "Processing Record 23 of Set 9 | port-de-paix\n",
      "Processing Record 24 of Set 9 | bin qirdan\n",
      "Processing Record 25 of Set 9 | havre-saint-pierre\n",
      "Processing Record 26 of Set 9 | fairbanks\n",
      "Processing Record 27 of Set 9 | bargal\n",
      "Processing Record 28 of Set 9 | zhezkazgan\n",
      "Processing Record 29 of Set 9 | burnie\n",
      "Processing Record 30 of Set 9 | susanville\n",
      "Processing Record 31 of Set 9 | luba\n",
      "Processing Record 32 of Set 9 | tomatlan\n",
      "Processing Record 33 of Set 9 | pisco\n",
      "Processing Record 34 of Set 9 | yar-sale\n",
      "Processing Record 35 of Set 9 | noumea\n",
      "Processing Record 36 of Set 9 | owando\n",
      "Processing Record 37 of Set 9 | suhbaatar\n",
      "Processing Record 38 of Set 9 | bucerias\n",
      "Processing Record 39 of Set 9 | paamiut\n",
      "Processing Record 40 of Set 9 | nola\n",
      "Processing Record 41 of Set 9 | jabiru\n",
      "Processing Record 42 of Set 9 | dzaoudzi\n",
      "Processing Record 43 of Set 9 | ingraj bazar\n",
      "Processing Record 44 of Set 9 | parabel\n",
      "Processing Record 45 of Set 9 | roebourne\n",
      "Processing Record 46 of Set 9 | san rafael\n",
      "Processing Record 47 of Set 9 | vostok\n",
      "Processing Record 48 of Set 9 | boralday\n",
      "Processing Record 49 of Set 9 | roma\n",
      "Processing Record 50 of Set 9 | korla\n",
      "Processing Record 1 of Set 10 | jaru\n",
      "Processing Record 2 of Set 10 | wajid\n",
      "Processing Record 3 of Set 10 | port keats\n",
      "Processing Record 4 of Set 10 | esmeraldas\n",
      "Processing Record 5 of Set 10 | kizukuri\n",
      "Processing Record 6 of Set 10 | sibolga\n",
      "Processing Record 7 of Set 10 | te anau\n",
      "Processing Record 8 of Set 10 | vila do maio\n",
      "Processing Record 9 of Set 10 | tiarei\n",
      "Processing Record 10 of Set 10 | acayucan\n",
      "Processing Record 11 of Set 10 | nanakuli\n",
      "Processing Record 12 of Set 10 | port blair\n",
      "Processing Record 13 of Set 10 | brae\n",
      "Processing Record 14 of Set 10 | puerto baquerizo moreno\n",
      "Processing Record 15 of Set 10 | abu samrah\n",
      "Processing Record 16 of Set 10 | baruun-urt\n",
      "Processing Record 17 of Set 10 | luza\n",
      "Processing Record 18 of Set 10 | itaituba\n",
      "Processing Record 19 of Set 10 | buchanan\n",
      "Processing Record 20 of Set 10 | ust-ilimsk\n",
      "Processing Record 21 of Set 10 | tabou\n",
      "Processing Record 22 of Set 10 | yatou\n",
      "Processing Record 23 of Set 10 | fort nelson\n",
      "Processing Record 24 of Set 10 | ulladulla\n",
      "Processing Record 25 of Set 10 | blagoyevo\n",
      "Processing Record 26 of Set 10 | tabiauea\n",
      "Processing Record 27 of Set 10 | leh\n",
      "Processing Record 28 of Set 10 | ankang\n",
      "Processing Record 29 of Set 10 | dien bien\n",
      "Processing Record 30 of Set 10 | turukhansk\n",
      "Processing Record 31 of Set 10 | manali\n",
      "Processing Record 32 of Set 10 | najran\n",
      "Processing Record 33 of Set 10 | marcona\n",
      "Processing Record 34 of Set 10 | sobolevo\n",
      "Processing Record 35 of Set 10 | mount isa\n",
      "Processing Record 36 of Set 10 | honningsvag\n",
      "Processing Record 37 of Set 10 | iberia\n",
      "Processing Record 38 of Set 10 | flinders\n",
      "Processing Record 39 of Set 10 | coahuayana\n",
      "Processing Record 40 of Set 10 | huejuquilla el alto\n",
      "Processing Record 41 of Set 10 | ketchikan\n",
      "Processing Record 42 of Set 10 | carutapera\n",
      "Processing Record 43 of Set 10 | kingaroy\n",
      "Processing Record 44 of Set 10 | fukue\n",
      "Processing Record 45 of Set 10 | oskarshamn\n",
      "Processing Record 46 of Set 10 | sassandra\n",
      "Processing Record 47 of Set 10 | guane\n",
      "Processing Record 48 of Set 10 | beausejour\n",
      "Processing Record 49 of Set 10 | tateyama\n",
      "Processing Record 50 of Set 10 | bichura\n",
      "Processing Record 1 of Set 11 | rungata\n",
      "City not found. Skipping...\n",
      "Processing Record 2 of Set 11 | okha\n",
      "City not found. Skipping...\n",
      "Processing Record 3 of Set 11 | neringa\n",
      "City not found. Skipping...\n",
      "Processing Record 4 of Set 11 | taoudenni\n",
      "City not found. Skipping...\n",
      "Processing Record 5 of Set 11 | aripuana\n",
      "City not found. Skipping...\n",
      "Processing Record 6 of Set 11 | cabedelo\n",
      "City not found. Skipping...\n",
      "Processing Record 7 of Set 11 | amderma\n",
      "City not found. Skipping...\n",
      "Processing Record 8 of Set 11 | ler\n",
      "City not found. Skipping...\n",
      "Processing Record 9 of Set 11 | mushie\n",
      "City not found. Skipping...\n",
      "Processing Record 10 of Set 11 | luderitz\n",
      "City not found. Skipping...\n",
      "Processing Record 11 of Set 11 | belmopan\n",
      "City not found. Skipping...\n",
      "Processing Record 12 of Set 11 | bolshiye uki\n",
      "City not found. Skipping...\n",
      "Processing Record 13 of Set 11 | fereydun kenar\n",
      "City not found. Skipping...\n",
      "Processing Record 14 of Set 11 | santa maria\n",
      "City not found. Skipping...\n",
      "Processing Record 15 of Set 11 | ambodifototra\n",
      "City not found. Skipping...\n",
      "Processing Record 16 of Set 11 | sangar\n",
      "City not found. Skipping...\n",
      "Processing Record 17 of Set 11 | zaoyang\n",
      "City not found. Skipping...\n",
      "Processing Record 18 of Set 11 | broome\n",
      "City not found. Skipping...\n",
      "Processing Record 19 of Set 11 | springfield\n",
      "City not found. Skipping...\n",
      "Processing Record 20 of Set 11 | dingle\n",
      "City not found. Skipping...\n",
      "Processing Record 21 of Set 11 | penzance\n",
      "City not found. Skipping...\n",
      "Processing Record 22 of Set 11 | isangel\n",
      "City not found. Skipping...\n",
      "Processing Record 23 of Set 11 | saleaula\n",
      "City not found. Skipping...\n",
      "Processing Record 24 of Set 11 | thunder bay\n",
      "City not found. Skipping...\n",
      "Processing Record 25 of Set 11 | saurimo\n",
      "City not found. Skipping...\n",
      "Processing Record 26 of Set 11 | sao filipe\n",
      "City not found. Skipping...\n",
      "Processing Record 27 of Set 11 | dicabisagan\n",
      "City not found. Skipping...\n",
      "Processing Record 28 of Set 11 | roald\n",
      "City not found. Skipping...\n",
      "Processing Record 29 of Set 11 | malwan\n",
      "City not found. Skipping...\n",
      "Processing Record 30 of Set 11 | dzhiginka\n",
      "City not found. Skipping...\n",
      "Processing Record 31 of Set 11 | hendek\n",
      "City not found. Skipping...\n",
      "Processing Record 32 of Set 11 | ayagoz\n",
      "City not found. Skipping...\n",
      "Processing Record 33 of Set 11 | morden\n",
      "City not found. Skipping...\n",
      "Processing Record 34 of Set 11 | sibiti\n",
      "City not found. Skipping...\n",
      "Processing Record 35 of Set 11 | masingbi\n",
      "City not found. Skipping...\n",
      "Processing Record 36 of Set 11 | chekhov\n",
      "City not found. Skipping...\n",
      "Processing Record 37 of Set 11 | jiutai\n",
      "City not found. Skipping...\n",
      "Processing Record 38 of Set 11 | pitsunda\n",
      "City not found. Skipping...\n",
      "Processing Record 39 of Set 11 | sorvag\n",
      "City not found. Skipping...\n",
      "Processing Record 40 of Set 11 | doha\n",
      "City not found. Skipping...\n",
      "Processing Record 41 of Set 11 | dryden\n",
      "City not found. Skipping...\n",
      "Processing Record 42 of Set 11 | manaia\n",
      "City not found. Skipping...\n",
      "Processing Record 43 of Set 11 | zhuanghe\n",
      "City not found. Skipping...\n",
      "Processing Record 44 of Set 11 | masvingo\n",
      "City not found. Skipping...\n",
      "Processing Record 45 of Set 11 | tongren\n",
      "City not found. Skipping...\n",
      "Processing Record 46 of Set 11 | lavrentiya\n",
      "City not found. Skipping...\n",
      "Processing Record 47 of Set 11 | nizhniy kuranakh\n",
      "City not found. Skipping...\n",
      "Processing Record 48 of Set 11 | talnakh\n",
      "City not found. Skipping...\n",
      "Processing Record 49 of Set 11 | matara\n",
      "City not found. Skipping...\n",
      "Processing Record 50 of Set 11 | san mateo del mar\n",
      "City not found. Skipping...\n",
      "Processing Record 1 of Set 12 | nikko\n",
      "Processing Record 2 of Set 12 | natal\n",
      "Processing Record 3 of Set 12 | maningrida\n",
      "Processing Record 4 of Set 12 | kamenskoye\n",
      "Processing Record 5 of Set 12 | samarai\n",
      "Processing Record 6 of Set 12 | birjand\n",
      "Processing Record 7 of Set 12 | lujan\n",
      "Processing Record 8 of Set 12 | pomezia\n",
      "Processing Record 9 of Set 12 | warqla\n",
      "Processing Record 10 of Set 12 | chimbote\n",
      "Processing Record 11 of Set 12 | aklavik\n",
      "Processing Record 12 of Set 12 | lahat\n",
      "Processing Record 13 of Set 12 | nosy varika\n",
      "Processing Record 14 of Set 12 | sisimiut\n",
      "Processing Record 15 of Set 12 | lamu\n",
      "Processing Record 16 of Set 12 | puerto colombia\n",
      "Processing Record 17 of Set 12 | pacific grove\n",
      "Processing Record 18 of Set 12 | kayes\n",
      "Processing Record 19 of Set 12 | bayan\n",
      "Processing Record 20 of Set 12 | pangkalanbuun\n",
      "Processing Record 21 of Set 12 | mackenzie\n",
      "Processing Record 22 of Set 12 | yenagoa\n",
      "Processing Record 23 of Set 12 | hasaki\n",
      "Processing Record 24 of Set 12 | biltine\n",
      "Processing Record 25 of Set 12 | ayan\n",
      "Processing Record 26 of Set 12 | port hardy\n",
      "Processing Record 27 of Set 12 | likasi\n",
      "Processing Record 28 of Set 12 | peto\n",
      "Processing Record 29 of Set 12 | lakatoro\n",
      "Processing Record 30 of Set 12 | bambanglipuro\n",
      "Processing Record 31 of Set 12 | lavumisa\n",
      "Processing Record 32 of Set 12 | bulgan\n",
      "Processing Record 33 of Set 12 | mujiayingzi\n",
      "Processing Record 34 of Set 12 | ibitinga\n",
      "Processing Record 35 of Set 12 | camana\n",
      "Processing Record 36 of Set 12 | anadyr\n",
      "Processing Record 37 of Set 12 | rafai\n",
      "Processing Record 38 of Set 12 | norsup\n",
      "Processing Record 39 of Set 12 | hailar\n",
      "Processing Record 40 of Set 12 | jinan\n",
      "Processing Record 41 of Set 12 | touba\n",
      "Processing Record 42 of Set 12 | omsukchan\n",
      "Processing Record 43 of Set 12 | biella\n",
      "Processing Record 44 of Set 12 | ambilobe\n",
      "Processing Record 45 of Set 12 | kropotkin\n",
      "Processing Record 46 of Set 12 | sumbawa\n",
      "Processing Record 47 of Set 12 | daxian\n",
      "Processing Record 48 of Set 12 | arlit\n",
      "Processing Record 49 of Set 12 | bara\n",
      "Processing Record 50 of Set 12 | jumla\n",
      "Processing Record 1 of Set 13 | kununurra\n",
      "Processing Record 2 of Set 13 | ormara\n",
      "Processing Record 3 of Set 13 | velsk\n",
      "Processing Record 4 of Set 13 | yanan\n",
      "Processing Record 5 of Set 13 | port moresby\n",
      "Processing Record 6 of Set 13 | juba\n",
      "Processing Record 7 of Set 13 | dinsor\n",
      "Processing Record 8 of Set 13 | stoyba\n",
      "Processing Record 9 of Set 13 | mecca\n",
      "Processing Record 10 of Set 13 | kilindoni\n",
      "Processing Record 11 of Set 13 | kruisfontein\n",
      "Processing Record 12 of Set 13 | torit\n",
      "Processing Record 13 of Set 13 | azrow\n",
      "Processing Record 14 of Set 13 | vao\n",
      "Processing Record 15 of Set 13 | cambados\n",
      "Processing Record 16 of Set 13 | victor harbor\n",
      "Processing Record 17 of Set 13 | pak phanang\n",
      "Processing Record 18 of Set 13 | morehead\n",
      "Processing Record 19 of Set 13 | sept-iles\n",
      "Processing Record 20 of Set 13 | novoagansk\n",
      "Processing Record 21 of Set 13 | kinsale\n",
      "Processing Record 22 of Set 13 | verkhoyansk\n",
      "Processing Record 23 of Set 13 | worland\n",
      "Processing Record 24 of Set 13 | navahrudak\n",
      "Processing Record 25 of Set 13 | tieli\n",
      "Processing Record 26 of Set 13 | sicamous\n",
      "-----------------------------\n",
      "Data Retrieval Complete      \n",
      "-----------------------------\n"
     ]
    }
   ],
   "source": [
    "# Create an empty list to hold the weather data.\n",
    "city_data = []\n",
    "# Print the beginning of the logging.\n",
    "print(\"Beginning Data Retrieval     \")\n",
    "print(\"-----------------------------\")\n",
    "\n",
    "# Create counters.\n",
    "record_count = 1\n",
    "set_count = 1\n",
    "\n",
    "# Loop through all the cities in the list.\n",
    "for i, city in enumerate(cities):\n",
    "\n",
    "    # Group cities in sets of 50 for logging purposes.\n",
    "    if (i % 50 == 0 and i >= 50):\n",
    "        set_count += 1\n",
    "        record_count = 1\n",
    "    # Create endpoint URL with each city.\n",
    "        city_url = url + \"&q=\" + city.replace(\" \",\"+\")\n",
    "\n",
    "    # Log the URL, record, and set numbers and the city.\n",
    "    print(f\"Processing Record {record_count} of Set {set_count} | {city}\")\n",
    "    # Add 1 to the record count.\n",
    "    record_count += 1\n",
    "\n",
    "    # Run an API request for each of the cities.\n",
    "    try:\n",
    "        # Parse the JSON and retrieve data.\n",
    "        city_weather = requests.get(city_url).json()\n",
    "        # Parse out the needed data.\n",
    "        city_lat = city_weather[\"coord\"][\"lat\"]\n",
    "        city_lng = city_weather[\"coord\"][\"lon\"]\n",
    "        city_max_temp = city_weather[\"main\"][\"temp_max\"]\n",
    "        city_humidity = city_weather[\"main\"][\"humidity\"]\n",
    "        city_clouds = city_weather[\"clouds\"][\"all\"]\n",
    "        city_wind = city_weather[\"wind\"][\"speed\"]\n",
    "        city_country = city_weather[\"sys\"][\"country\"]\n",
    "        # Convert the date to ISO standard.\n",
    "        city_date = datetime.utcfromtimestamp(city_weather[\"dt\"]).strftime('%Y-%m-%d %H:%M:%S')\n",
    "        # Append the city information into city_data list.\n",
    "        city_data.append({\"City\": city.title(),\n",
    "                          \"Lat\": city_lat,\n",
    "                          \"Lng\": city_lng,\n",
    "                          \"Max Temp\": city_max_temp,\n",
    "                          \"Humidity\": city_humidity,\n",
    "                          \"Cloudiness\": city_clouds,\n",
    "                          \"Wind Speed\": city_wind,\n",
    "                          \"Country\": city_country,\n",
    "                          \"Date\": city_date})\n",
    "\n",
    "# If an error is experienced, skip the city.\n",
    "    except:\n",
    "        print(\"City not found. Skipping...\")\n",
    "        pass\n",
    "\n",
    "# Indicate that Data Loading is complete.\n",
    "print(\"-----------------------------\")\n",
    "print(\"Data Retrieval Complete      \")\n",
    "print(\"-----------------------------\")"
   ]
  },
  {
   "cell_type": "code",
   "execution_count": 49,
   "metadata": {},
   "outputs": [
    {
     "data": {
      "text/plain": [
       "526"
      ]
     },
     "execution_count": 49,
     "metadata": {},
     "output_type": "execute_result"
    }
   ],
   "source": [
    "len(city_data)"
   ]
  },
  {
   "cell_type": "code",
   "execution_count": 50,
   "metadata": {},
   "outputs": [
    {
     "data": {
      "text/html": [
       "<div>\n",
       "<style scoped>\n",
       "    .dataframe tbody tr th:only-of-type {\n",
       "        vertical-align: middle;\n",
       "    }\n",
       "\n",
       "    .dataframe tbody tr th {\n",
       "        vertical-align: top;\n",
       "    }\n",
       "\n",
       "    .dataframe thead th {\n",
       "        text-align: right;\n",
       "    }\n",
       "</style>\n",
       "<table border=\"1\" class=\"dataframe\">\n",
       "  <thead>\n",
       "    <tr style=\"text-align: right;\">\n",
       "      <th></th>\n",
       "      <th>City</th>\n",
       "      <th>Lat</th>\n",
       "      <th>Lng</th>\n",
       "      <th>Max Temp</th>\n",
       "      <th>Humidity</th>\n",
       "      <th>Cloudiness</th>\n",
       "      <th>Wind Speed</th>\n",
       "      <th>Country</th>\n",
       "      <th>Date</th>\n",
       "    </tr>\n",
       "  </thead>\n",
       "  <tbody>\n",
       "    <tr>\n",
       "      <th>0</th>\n",
       "      <td>Busselton</td>\n",
       "      <td>42.3584</td>\n",
       "      <td>-71.0598</td>\n",
       "      <td>42.01</td>\n",
       "      <td>28</td>\n",
       "      <td>0</td>\n",
       "      <td>8.05</td>\n",
       "      <td>US</td>\n",
       "      <td>2021-04-04 01:16:26</td>\n",
       "    </tr>\n",
       "    <tr>\n",
       "      <th>1</th>\n",
       "      <td>Jamestown</td>\n",
       "      <td>42.3584</td>\n",
       "      <td>-71.0598</td>\n",
       "      <td>42.01</td>\n",
       "      <td>28</td>\n",
       "      <td>0</td>\n",
       "      <td>8.05</td>\n",
       "      <td>US</td>\n",
       "      <td>2021-04-04 01:16:26</td>\n",
       "    </tr>\n",
       "    <tr>\n",
       "      <th>2</th>\n",
       "      <td>Rikitea</td>\n",
       "      <td>42.3584</td>\n",
       "      <td>-71.0598</td>\n",
       "      <td>42.01</td>\n",
       "      <td>28</td>\n",
       "      <td>0</td>\n",
       "      <td>8.05</td>\n",
       "      <td>US</td>\n",
       "      <td>2021-04-04 01:16:26</td>\n",
       "    </tr>\n",
       "    <tr>\n",
       "      <th>3</th>\n",
       "      <td>Bosaso</td>\n",
       "      <td>42.3584</td>\n",
       "      <td>-71.0598</td>\n",
       "      <td>42.01</td>\n",
       "      <td>28</td>\n",
       "      <td>0</td>\n",
       "      <td>8.05</td>\n",
       "      <td>US</td>\n",
       "      <td>2021-04-04 01:16:26</td>\n",
       "    </tr>\n",
       "    <tr>\n",
       "      <th>4</th>\n",
       "      <td>Bambous Virieux</td>\n",
       "      <td>42.3584</td>\n",
       "      <td>-71.0598</td>\n",
       "      <td>42.01</td>\n",
       "      <td>28</td>\n",
       "      <td>0</td>\n",
       "      <td>8.05</td>\n",
       "      <td>US</td>\n",
       "      <td>2021-04-04 01:16:26</td>\n",
       "    </tr>\n",
       "    <tr>\n",
       "      <th>5</th>\n",
       "      <td>Jalingo</td>\n",
       "      <td>42.3584</td>\n",
       "      <td>-71.0598</td>\n",
       "      <td>42.01</td>\n",
       "      <td>28</td>\n",
       "      <td>0</td>\n",
       "      <td>8.05</td>\n",
       "      <td>US</td>\n",
       "      <td>2021-04-04 01:16:26</td>\n",
       "    </tr>\n",
       "    <tr>\n",
       "      <th>6</th>\n",
       "      <td>Cape Town</td>\n",
       "      <td>42.3584</td>\n",
       "      <td>-71.0598</td>\n",
       "      <td>42.01</td>\n",
       "      <td>28</td>\n",
       "      <td>0</td>\n",
       "      <td>8.05</td>\n",
       "      <td>US</td>\n",
       "      <td>2021-04-04 01:16:26</td>\n",
       "    </tr>\n",
       "    <tr>\n",
       "      <th>7</th>\n",
       "      <td>Mataura</td>\n",
       "      <td>42.3584</td>\n",
       "      <td>-71.0598</td>\n",
       "      <td>42.01</td>\n",
       "      <td>28</td>\n",
       "      <td>0</td>\n",
       "      <td>8.05</td>\n",
       "      <td>US</td>\n",
       "      <td>2021-04-04 01:16:26</td>\n",
       "    </tr>\n",
       "    <tr>\n",
       "      <th>8</th>\n",
       "      <td>Broken Hill</td>\n",
       "      <td>42.3584</td>\n",
       "      <td>-71.0598</td>\n",
       "      <td>42.01</td>\n",
       "      <td>28</td>\n",
       "      <td>0</td>\n",
       "      <td>8.05</td>\n",
       "      <td>US</td>\n",
       "      <td>2021-04-04 01:16:26</td>\n",
       "    </tr>\n",
       "    <tr>\n",
       "      <th>9</th>\n",
       "      <td>Punta Arenas</td>\n",
       "      <td>42.3584</td>\n",
       "      <td>-71.0598</td>\n",
       "      <td>42.01</td>\n",
       "      <td>28</td>\n",
       "      <td>0</td>\n",
       "      <td>8.05</td>\n",
       "      <td>US</td>\n",
       "      <td>2021-04-04 01:16:26</td>\n",
       "    </tr>\n",
       "  </tbody>\n",
       "</table>\n",
       "</div>"
      ],
      "text/plain": [
       "              City      Lat      Lng  Max Temp  Humidity  Cloudiness  \\\n",
       "0        Busselton  42.3584 -71.0598     42.01        28           0   \n",
       "1        Jamestown  42.3584 -71.0598     42.01        28           0   \n",
       "2          Rikitea  42.3584 -71.0598     42.01        28           0   \n",
       "3           Bosaso  42.3584 -71.0598     42.01        28           0   \n",
       "4  Bambous Virieux  42.3584 -71.0598     42.01        28           0   \n",
       "5          Jalingo  42.3584 -71.0598     42.01        28           0   \n",
       "6        Cape Town  42.3584 -71.0598     42.01        28           0   \n",
       "7          Mataura  42.3584 -71.0598     42.01        28           0   \n",
       "8      Broken Hill  42.3584 -71.0598     42.01        28           0   \n",
       "9     Punta Arenas  42.3584 -71.0598     42.01        28           0   \n",
       "\n",
       "   Wind Speed Country                 Date  \n",
       "0        8.05      US  2021-04-04 01:16:26  \n",
       "1        8.05      US  2021-04-04 01:16:26  \n",
       "2        8.05      US  2021-04-04 01:16:26  \n",
       "3        8.05      US  2021-04-04 01:16:26  \n",
       "4        8.05      US  2021-04-04 01:16:26  \n",
       "5        8.05      US  2021-04-04 01:16:26  \n",
       "6        8.05      US  2021-04-04 01:16:26  \n",
       "7        8.05      US  2021-04-04 01:16:26  \n",
       "8        8.05      US  2021-04-04 01:16:26  \n",
       "9        8.05      US  2021-04-04 01:16:26  "
      ]
     },
     "execution_count": 50,
     "metadata": {},
     "output_type": "execute_result"
    }
   ],
   "source": [
    "# Convert the array of dictionaries to a Pandas DataFrame.\n",
    "city_data_df = pd.DataFrame(city_data)\n",
    "new_column_order = [\"column2\", \"column4\", \"column1\"]\n",
    "city_data_df.head(10)"
   ]
  },
  {
   "cell_type": "code",
   "execution_count": 51,
   "metadata": {},
   "outputs": [],
   "source": [
    "# Create the output file (CSV).\n",
    "output_data_file = \"weather_data/cities.csv\"\n",
    "# Export the City_Data into a CSV.\n",
    "city_data_df.to_csv(output_data_file, index_label=\"City_ID\")"
   ]
  },
  {
   "cell_type": "code",
   "execution_count": 52,
   "metadata": {},
   "outputs": [],
   "source": [
    "# Extract relevant fields from the DataFrame for plotting.\n",
    "lats = city_data_df[\"Lat\"]\n",
    "max_temps = city_data_df[\"Max Temp\"]\n",
    "humidity = city_data_df[\"Humidity\"]\n",
    "cloudiness = city_data_df[\"Cloudiness\"]\n",
    "wind_speed = city_data_df[\"Wind Speed\"]"
   ]
  },
  {
   "cell_type": "code",
   "execution_count": 53,
   "metadata": {},
   "outputs": [
    {
     "data": {
      "image/png": "[encoded data removed]",
      "text/plain": [
       "<Figure size 432x288 with 1 Axes>"
      ]
     },
     "metadata": {
      "needs_background": "light"
     },
     "output_type": "display_data"
    }
   ],
   "source": [
    "# Import time module\n",
    "import time\n",
    "\n",
    "# Build the scatter plot for latitude vs. max temperature.\n",
    "plt.scatter(lats,\n",
    "            max_temps,\n",
    "            edgecolor=\"black\", linewidths=1, marker=\"o\",\n",
    "            alpha=0.8, label=\"Cities\")\n",
    "\n",
    "# Incorporate the other graph properties.\n",
    "plt.title(f\"City Latitude vs. Max Temperature \"+ time.strftime(\"%x\"))\n",
    "plt.ylabel(\"Max Temperature (F)\")\n",
    "plt.xlabel(\"Latitude\")\n",
    "plt.grid(True)\n",
    "\n",
    "# Save the figure.\n",
    "plt.savefig(\"weather_data/Fig1.png\")\n",
    "\n",
    "# Show plot.\n",
    "plt.show()"
   ]
  },
  {
   "cell_type": "code",
   "execution_count": 54,
   "metadata": {},
   "outputs": [
    {
     "data": {
      "image/png": "[encoded data removed]",
      "text/plain": [
       "<Figure size 432x288 with 1 Axes>"
      ]
     },
     "metadata": {
      "needs_background": "light"
     },
     "output_type": "display_data"
    }
   ],
   "source": [
    "# Build the scatter plots for latitude vs. humidity.\n",
    "plt.scatter(lats,\n",
    "            humidity,\n",
    "            edgecolor=\"black\", linewidths=1, marker=\"o\",\n",
    "            alpha=0.8, label=\"Cities\")\n",
    "\n",
    "# Incorporate the other graph properties.\n",
    "plt.title(f\"City Latitude vs. Humidity \"+ time.strftime(\"%x\"))\n",
    "plt.ylabel(\"Humidity (%)\")\n",
    "plt.xlabel(\"Latitude\")\n",
    "plt.grid(True)\n",
    "# Save the figure.\n",
    "plt.savefig(\"weather_data/Fig2.png\")\n",
    "# Show plot.\n",
    "plt.show()"
   ]
  },
  {
   "cell_type": "code",
   "execution_count": 55,
   "metadata": {},
   "outputs": [
    {
     "data": {
      "image/png": "[encoded data removed]",
      "text/plain": [
       "<Figure size 432x288 with 1 Axes>"
      ]
     },
     "metadata": {
      "needs_background": "light"
     },
     "output_type": "display_data"
    }
   ],
   "source": [
    "# Build the scatter plots for latitude vs. cloudiness.\n",
    "plt.scatter(lats,\n",
    "            cloudiness,\n",
    "            edgecolor=\"black\", linewidths=1, marker=\"o\",\n",
    "            alpha=0.8, label=\"Cities\")\n",
    "\n",
    "# Incorporate the other graph properties.\n",
    "plt.title(f\"City Latitude vs. Cloudiness (%) \"+ time.strftime(\"%x\"))\n",
    "plt.ylabel(\"Cloudiness (%)\")\n",
    "plt.xlabel(\"Latitude\")\n",
    "plt.grid(True)\n",
    "# Save the figure.\n",
    "plt.savefig(\"weather_data/Fig3.png\")\n",
    "# Show plot.\n",
    "plt.show()"
   ]
  },
  {
   "cell_type": "code",
   "execution_count": 56,
   "metadata": {},
   "outputs": [
    {
     "data": {
      "image/png": "[encoded data removed]",
      "text/plain": [
       "<Figure size 432x288 with 1 Axes>"
      ]
     },
     "metadata": {
      "needs_background": "light"
     },
     "output_type": "display_data"
    }
   ],
   "source": [
    "# Build the scatter plots for latitude vs. wind speed.\n",
    "plt.scatter(lats,\n",
    "            wind_speed,\n",
    "            edgecolor=\"black\", linewidths=1, marker=\"o\",\n",
    "            alpha=0.8, label=\"Cities\")\n",
    "\n",
    "# Incorporate the other graph properties.\n",
    "plt.title(f\"City Latitude vs. Wind Speed \"+ time.strftime(\"%x\"))\n",
    "plt.ylabel(\"Wind Speed (mph)\")\n",
    "plt.xlabel(\"Latitude\")\n",
    "plt.grid(True)\n",
    "# Save the figure.\n",
    "plt.savefig(\"weather_data/Fig4.png\")\n",
    "# Show plot.\n",
    "plt.show()"
   ]
  },
  {
   "cell_type": "code",
   "execution_count": 57,
   "metadata": {},
   "outputs": [],
   "source": [
    "# Import linregress\n",
    "from scipy.stats import linregress\n",
    "\n",
    "# Create a function to create perform linear regression on the weather data\n",
    "# and plot a regression line and the equation with the data.\n",
    "def plot_linear_regression(x_values, y_values, title, y_label, text_coordinates):\n",
    "\n",
    "    # Run regression on hemisphere weather data.\n",
    "    (slope, intercept, r_value, p_value, std_err) = linregress(x_values, y_values)\n",
    "\n",
    "    # Calculate the regression line \"y values\" from the slope and intercept.\n",
    "    regress_values = x_values * slope + intercept\n",
    "    # Get the equation of the line.\n",
    "    line_eq = \"y = \" + str(round(slope,2)) + \"x + \" + str(round(intercept,2))\n",
    "    # Create a scatter plot and plot the regression line.\n",
    "    plt.scatter(x_values,y_values)\n",
    "    plt.plot(x_values,regress_values,\"r\")\n",
    "    # Annotate the text for the line equation.\n",
    "    plt.annotate(line_eq, text_coordinates, fontsize=15, color=\"red\")\n",
    "    plt.xlabel('Latitude')\n",
    "    plt.ylabel(y_label)\n",
    "    plt.show()"
   ]
  },
  {
   "cell_type": "code",
   "execution_count": 62,
   "metadata": {},
   "outputs": [
    {
     "data": {
      "text/plain": [
       "City                      Ushuaia\n",
       "Lat                       42.3584\n",
       "Lng                      -71.0598\n",
       "Max Temp                    42.01\n",
       "Humidity                       28\n",
       "Cloudiness                      0\n",
       "Wind Speed                   8.05\n",
       "Country                        US\n",
       "Date          2021-04-04 01:16:26\n",
       "Name: 13, dtype: object"
      ]
     },
     "execution_count": 62,
     "metadata": {},
     "output_type": "execute_result"
    }
   ],
   "source": [
    "index13 = city_data_df.loc[13]\n",
    "index13"
   ]
  },
  {
   "cell_type": "code",
   "execution_count": 59,
   "metadata": {},
   "outputs": [
    {
     "data": {
      "text/plain": [
       "0       True\n",
       "1       True\n",
       "2       True\n",
       "3       True\n",
       "4       True\n",
       "       ...  \n",
       "521    False\n",
       "522    False\n",
       "523    False\n",
       "524    False\n",
       "525    False\n",
       "Name: Lat, Length: 526, dtype: bool"
      ]
     },
     "execution_count": 59,
     "metadata": {},
     "output_type": "execute_result"
    }
   ],
   "source": [
    "city_data_df[\"Lat\"] >= 0"
   ]
  },
  {
   "cell_type": "code",
   "execution_count": 65,
   "metadata": {},
   "outputs": [
    {
     "data": {
      "text/html": [
       "<div>\n",
       "<style scoped>\n",
       "    .dataframe tbody tr th:only-of-type {\n",
       "        vertical-align: middle;\n",
       "    }\n",
       "\n",
       "    .dataframe tbody tr th {\n",
       "        vertical-align: top;\n",
       "    }\n",
       "\n",
       "    .dataframe thead th {\n",
       "        text-align: right;\n",
       "    }\n",
       "</style>\n",
       "<table border=\"1\" class=\"dataframe\">\n",
       "  <thead>\n",
       "    <tr style=\"text-align: right;\">\n",
       "      <th></th>\n",
       "      <th>City</th>\n",
       "      <th>Lat</th>\n",
       "      <th>Lng</th>\n",
       "      <th>Max Temp</th>\n",
       "      <th>Humidity</th>\n",
       "      <th>Cloudiness</th>\n",
       "      <th>Wind Speed</th>\n",
       "      <th>Country</th>\n",
       "      <th>Date</th>\n",
       "    </tr>\n",
       "  </thead>\n",
       "  <tbody>\n",
       "    <tr>\n",
       "      <th>0</th>\n",
       "      <td>Busselton</td>\n",
       "      <td>42.3584</td>\n",
       "      <td>-71.0598</td>\n",
       "      <td>42.01</td>\n",
       "      <td>28</td>\n",
       "      <td>0</td>\n",
       "      <td>8.05</td>\n",
       "      <td>US</td>\n",
       "      <td>2021-04-04 01:16:26</td>\n",
       "    </tr>\n",
       "    <tr>\n",
       "      <th>1</th>\n",
       "      <td>Jamestown</td>\n",
       "      <td>42.3584</td>\n",
       "      <td>-71.0598</td>\n",
       "      <td>42.01</td>\n",
       "      <td>28</td>\n",
       "      <td>0</td>\n",
       "      <td>8.05</td>\n",
       "      <td>US</td>\n",
       "      <td>2021-04-04 01:16:26</td>\n",
       "    </tr>\n",
       "    <tr>\n",
       "      <th>2</th>\n",
       "      <td>Rikitea</td>\n",
       "      <td>42.3584</td>\n",
       "      <td>-71.0598</td>\n",
       "      <td>42.01</td>\n",
       "      <td>28</td>\n",
       "      <td>0</td>\n",
       "      <td>8.05</td>\n",
       "      <td>US</td>\n",
       "      <td>2021-04-04 01:16:26</td>\n",
       "    </tr>\n",
       "    <tr>\n",
       "      <th>3</th>\n",
       "      <td>Bosaso</td>\n",
       "      <td>42.3584</td>\n",
       "      <td>-71.0598</td>\n",
       "      <td>42.01</td>\n",
       "      <td>28</td>\n",
       "      <td>0</td>\n",
       "      <td>8.05</td>\n",
       "      <td>US</td>\n",
       "      <td>2021-04-04 01:16:26</td>\n",
       "    </tr>\n",
       "    <tr>\n",
       "      <th>4</th>\n",
       "      <td>Bambous Virieux</td>\n",
       "      <td>42.3584</td>\n",
       "      <td>-71.0598</td>\n",
       "      <td>42.01</td>\n",
       "      <td>28</td>\n",
       "      <td>0</td>\n",
       "      <td>8.05</td>\n",
       "      <td>US</td>\n",
       "      <td>2021-04-04 01:16:26</td>\n",
       "    </tr>\n",
       "  </tbody>\n",
       "</table>\n",
       "</div>"
      ],
      "text/plain": [
       "              City      Lat      Lng  Max Temp  Humidity  Cloudiness  \\\n",
       "0        Busselton  42.3584 -71.0598     42.01        28           0   \n",
       "1        Jamestown  42.3584 -71.0598     42.01        28           0   \n",
       "2          Rikitea  42.3584 -71.0598     42.01        28           0   \n",
       "3           Bosaso  42.3584 -71.0598     42.01        28           0   \n",
       "4  Bambous Virieux  42.3584 -71.0598     42.01        28           0   \n",
       "\n",
       "   Wind Speed Country                 Date  \n",
       "0        8.05      US  2021-04-04 01:16:26  \n",
       "1        8.05      US  2021-04-04 01:16:26  \n",
       "2        8.05      US  2021-04-04 01:16:26  \n",
       "3        8.05      US  2021-04-04 01:16:26  \n",
       "4        8.05      US  2021-04-04 01:16:26  "
      ]
     },
     "execution_count": 65,
     "metadata": {},
     "output_type": "execute_result"
    }
   ],
   "source": [
    "city_data_df.loc[(city_data_df[\"Lat\"] >= 0)].head()"
   ]
  },
  {
   "cell_type": "code",
   "execution_count": 66,
   "metadata": {},
   "outputs": [],
   "source": [
    "# Create Northern and Southern Hemisphere DataFrames.\n",
    "northern_hemi_df = city_data_df.loc[(city_data_df[\"Lat\"] >= 0)]\n",
    "southern_hemi_df = city_data_df.loc[(city_data_df[\"Lat\"] < 0)]"
   ]
  },
  {
   "cell_type": "code",
   "execution_count": 67,
   "metadata": {},
   "outputs": [
    {
     "data": {
      "image/png": "[encoded data removed]",
      "text/plain": [
       "<Figure size 432x288 with 1 Axes>"
      ]
     },
     "metadata": {
      "needs_background": "light"
     },
     "output_type": "display_data"
    }
   ],
   "source": [
    "# Linear regression on the Northern Hemisphere\n",
    "x_values = northern_hemi_df[\"Lat\"]\n",
    "y_values = northern_hemi_df[\"Max Temp\"]\n",
    "# Call the function.\n",
    "plot_linear_regression(x_values, y_values,\n",
    "                       'Linear Regression on the Northern Hemisphere for Maximum Temperature', 'Max Temp',(10,40))"
   ]
  },
  {
   "cell_type": "code",
   "execution_count": 68,
   "metadata": {},
   "outputs": [
    {
     "data": {
      "image/png": "[encoded data removed]",
      "text/plain": [
       "<Figure size 432x288 with 1 Axes>"
      ]
     },
     "metadata": {
      "needs_background": "light"
     },
     "output_type": "display_data"
    }
   ],
   "source": [
    "# Linear regression on the Southern Hemisphere\n",
    "x_values = southern_hemi_df[\"Lat\"]\n",
    "y_values = southern_hemi_df[\"Max Temp\"]\n",
    "# Call the function.\n",
    "plot_linear_regression(x_values, y_values,\n",
    "                       'Linear Regression on the Southern Hemisphere for Maximum Temperature', 'Max Temp',(-50,90))"
   ]
  },
  {
   "cell_type": "code",
   "execution_count": 70,
   "metadata": {},
   "outputs": [
    {
     "data": {
      "image/png": "[encoded data removed]",
      "text/plain": [
       "<Figure size 432x288 with 1 Axes>"
      ]
     },
     "metadata": {
      "needs_background": "light"
     },
     "output_type": "display_data"
    }
   ],
   "source": [
    "# Linear regression on the Northern Hemisphere\n",
    "x_values = northern_hemi_df[\"Lat\"]\n",
    "y_values = northern_hemi_df[\"Humidity\"]\n",
    "# Call the function.\n",
    "plot_linear_regression(x_values, y_values,\n",
    "                       'Linear Regression on the Northern Hemisphere for % Humidity', '% Humidity',(40,10))"
   ]
  },
  {
   "cell_type": "code",
   "execution_count": 72,
   "metadata": {},
   "outputs": [
    {
     "data": {
      "image/png": "[encoded data removed]",
      "text/plain": [
       "<Figure size 432x288 with 1 Axes>"
      ]
     },
     "metadata": {
      "needs_background": "light"
     },
     "output_type": "display_data"
    }
   ],
   "source": [
    "# Linear regression on the Southern Hemisphere\n",
    "x_values = southern_hemi_df[\"Lat\"]\n",
    "y_values = southern_hemi_df[\"Humidity\"]\n",
    "# Call the function.\n",
    "plot_linear_regression(x_values, y_values,\n",
    "                       'Linear Regression on the Southern Hemisphere for % Humidity', '% Humidity',(-50,15))"
   ]
  },
  {
   "cell_type": "code",
   "execution_count": 73,
   "metadata": {},
   "outputs": [
    {
     "data": {
      "image/png": "[encoded data removed]",
      "text/plain": [
       "<Figure size 432x288 with 1 Axes>"
      ]
     },
     "metadata": {
      "needs_background": "light"
     },
     "output_type": "display_data"
    }
   ],
   "source": [
    "# Linear regression on the Southern Hemisphere\n",
    "x_values = northern_hemi_df[\"Lat\"]\n",
    "y_values = northern_hemi_df[\"Humidity\"]\n",
    "# Call the function.\n",
    "plot_linear_regression(x_values, y_values,\n",
    "                       'Linear Regression on the Northern Hemisphere for % Humidity', '% Humidity',(-50,15))"
   ]
  },
  {
   "cell_type": "code",
   "execution_count": 77,
   "metadata": {},
   "outputs": [
    {
     "data": {
      "image/png": "[encoded data removed]",
      "text/plain": [
       "<Figure size 432x288 with 1 Axes>"
      ]
     },
     "metadata": {
      "needs_background": "light"
     },
     "output_type": "display_data"
    }
   ],
   "source": [
    "# Linear regression on the Southern Hemisphere\n",
    "x_values = southern_hemi_df[\"Lat\"]\n",
    "y_values = southern_hemi_df[\"Cloudiness\"]\n",
    "# Call the function.\n",
    "plot_linear_regression(x_values, y_values,\n",
    "                       'Linear Regression on the Southern Hemisphere for % Cloudiness','% Cloudiness',(-50,60))"
   ]
  },
  {
   "cell_type": "code",
   "execution_count": 80,
   "metadata": {},
   "outputs": [
    {
     "data": {
      "image/png": "[encoded data removed]",
      "text/plain": [
       "<Figure size 432x288 with 1 Axes>"
      ]
     },
     "metadata": {
      "needs_background": "light"
     },
     "output_type": "display_data"
    }
   ],
   "source": [
    "# Linear regression on the Northern Hemisphere\n",
    "x_values = northern_hemi_df[\"Lat\"]\n",
    "y_values = northern_hemi_df[\"Wind Speed\"]\n",
    "# Call the function.\n",
    "plot_linear_regression(x_values, y_values,\n",
    "                       'Linear Regression on the Northern Hemisphere in for Wind Speed', 'Wind Speed',(40,35))"
   ]
  },
  {
   "cell_type": "code",
   "execution_count": 82,
   "metadata": {},
   "outputs": [
    {
     "data": {
      "image/png": "[encoded data removed]",
      "text/plain": [
       "<Figure size 432x288 with 1 Axes>"
      ]
     },
     "metadata": {
      "needs_background": "light"
     },
     "output_type": "display_data"
    }
   ],
   "source": [
    "# Linear regression on the Southern Hemisphere\n",
    "x_values = southern_hemi_df[\"Lat\"]\n",
    "y_values = southern_hemi_df[\"Wind Speed\"]\n",
    "# Call the function.\n",
    "plot_linear_regression(x_values, y_values,\n",
    "                       'Linear Regression on the Southern Hemisphere for Wind Speed', 'Wind Speed',(-50,35))"
   ]
  },
  {
   "cell_type": "code",
   "execution_count": null,
   "metadata": {},
   "outputs": [],
   "source": []
  }
 ],
 "metadata": {
  "kernelspec": {
   "display_name": "Python 3",
   "language": "python",
   "name": "python3"
  },
  "language_info": {
   "codemirror_mode": {
    "name": "ipython",
    "version": 3
   },
   "file_extension": ".py",
   "mimetype": "text/x-python",
   "name": "python",
   "nbconvert_exporter": "python",
   "pygments_lexer": "ipython3",
   "version": "3.8.5"
  }
 },
 "nbformat": 4,
 "nbformat_minor": 4
}
